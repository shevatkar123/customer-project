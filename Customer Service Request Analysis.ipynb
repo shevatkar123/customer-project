{
 "cells": [
  {
   "cell_type": "code",
   "execution_count": 1,
   "metadata": {},
   "outputs": [],
   "source": [
    "# import all libraries\n",
    "import pandas as pd\n",
    "import numpy as np\n",
    "import matplotlib as mpl\n",
    "from matplotlib import pyplot as plt\n",
    "%matplotlib inline\n",
    "plt.style.use(['fivethirtyeight'])\n",
    "mpl.rcParams['lines.linewidth'] = 3\n",
    "import warnings\n",
    "warnings.filterwarnings(\"ignore\")\n",
    "import scipy.stats as stats\n",
    "import statsmodels.api as sm\n",
    "from statsmodels.formula.api import ols"
   ]
  },
  {
   "cell_type": "code",
   "execution_count": 2,
   "metadata": {},
   "outputs": [],
   "source": [
    "# Import and read a 311 NYC service request.\n",
    "df=pd.read_csv('311_Service_Requests_from_2010_to_Present.csv',header=0, sep=',',parse_dates=['Created Date','Closed Date','Resolution Action Updated Date'])\n",
    "\n"
   ]
  },
  {
   "cell_type": "code",
   "execution_count": 3,
   "metadata": {},
   "outputs": [
    {
     "data": {
      "text/html": [
       "<div>\n",
       "<style scoped>\n",
       "    .dataframe tbody tr th:only-of-type {\n",
       "        vertical-align: middle;\n",
       "    }\n",
       "\n",
       "    .dataframe tbody tr th {\n",
       "        vertical-align: top;\n",
       "    }\n",
       "\n",
       "    .dataframe thead th {\n",
       "        text-align: right;\n",
       "    }\n",
       "</style>\n",
       "<table border=\"1\" class=\"dataframe\">\n",
       "  <thead>\n",
       "    <tr style=\"text-align: right;\">\n",
       "      <th></th>\n",
       "      <th>Unique Key</th>\n",
       "      <th>Created Date</th>\n",
       "      <th>Closed Date</th>\n",
       "      <th>Agency</th>\n",
       "      <th>Agency Name</th>\n",
       "      <th>Complaint Type</th>\n",
       "      <th>Descriptor</th>\n",
       "      <th>Location Type</th>\n",
       "      <th>Incident Zip</th>\n",
       "      <th>Incident Address</th>\n",
       "      <th>...</th>\n",
       "      <th>Bridge Highway Name</th>\n",
       "      <th>Bridge Highway Direction</th>\n",
       "      <th>Road Ramp</th>\n",
       "      <th>Bridge Highway Segment</th>\n",
       "      <th>Garage Lot Name</th>\n",
       "      <th>Ferry Direction</th>\n",
       "      <th>Ferry Terminal Name</th>\n",
       "      <th>Latitude</th>\n",
       "      <th>Longitude</th>\n",
       "      <th>Location</th>\n",
       "    </tr>\n",
       "  </thead>\n",
       "  <tbody>\n",
       "    <tr>\n",
       "      <td>0</td>\n",
       "      <td>32310363</td>\n",
       "      <td>2015-12-31 23:59:45</td>\n",
       "      <td>2016-01-01 00:55:00</td>\n",
       "      <td>NYPD</td>\n",
       "      <td>New York City Police Department</td>\n",
       "      <td>Noise - Street/Sidewalk</td>\n",
       "      <td>Loud Music/Party</td>\n",
       "      <td>Street/Sidewalk</td>\n",
       "      <td>10034.0</td>\n",
       "      <td>71 VERMILYEA AVENUE</td>\n",
       "      <td>...</td>\n",
       "      <td>NaN</td>\n",
       "      <td>NaN</td>\n",
       "      <td>NaN</td>\n",
       "      <td>NaN</td>\n",
       "      <td>NaN</td>\n",
       "      <td>NaN</td>\n",
       "      <td>NaN</td>\n",
       "      <td>40.865682</td>\n",
       "      <td>-73.923501</td>\n",
       "      <td>(40.86568153633767, -73.92350095571744)</td>\n",
       "    </tr>\n",
       "    <tr>\n",
       "      <td>1</td>\n",
       "      <td>32309934</td>\n",
       "      <td>2015-12-31 23:59:44</td>\n",
       "      <td>2016-01-01 01:26:00</td>\n",
       "      <td>NYPD</td>\n",
       "      <td>New York City Police Department</td>\n",
       "      <td>Blocked Driveway</td>\n",
       "      <td>No Access</td>\n",
       "      <td>Street/Sidewalk</td>\n",
       "      <td>11105.0</td>\n",
       "      <td>27-07 23 AVENUE</td>\n",
       "      <td>...</td>\n",
       "      <td>NaN</td>\n",
       "      <td>NaN</td>\n",
       "      <td>NaN</td>\n",
       "      <td>NaN</td>\n",
       "      <td>NaN</td>\n",
       "      <td>NaN</td>\n",
       "      <td>NaN</td>\n",
       "      <td>40.775945</td>\n",
       "      <td>-73.915094</td>\n",
       "      <td>(40.775945312321085, -73.91509393898605)</td>\n",
       "    </tr>\n",
       "    <tr>\n",
       "      <td>2</td>\n",
       "      <td>32309159</td>\n",
       "      <td>2015-12-31 23:59:29</td>\n",
       "      <td>2016-01-01 04:51:00</td>\n",
       "      <td>NYPD</td>\n",
       "      <td>New York City Police Department</td>\n",
       "      <td>Blocked Driveway</td>\n",
       "      <td>No Access</td>\n",
       "      <td>Street/Sidewalk</td>\n",
       "      <td>10458.0</td>\n",
       "      <td>2897 VALENTINE AVENUE</td>\n",
       "      <td>...</td>\n",
       "      <td>NaN</td>\n",
       "      <td>NaN</td>\n",
       "      <td>NaN</td>\n",
       "      <td>NaN</td>\n",
       "      <td>NaN</td>\n",
       "      <td>NaN</td>\n",
       "      <td>NaN</td>\n",
       "      <td>40.870325</td>\n",
       "      <td>-73.888525</td>\n",
       "      <td>(40.870324522111424, -73.88852464418646)</td>\n",
       "    </tr>\n",
       "    <tr>\n",
       "      <td>3</td>\n",
       "      <td>32305098</td>\n",
       "      <td>2015-12-31 23:57:46</td>\n",
       "      <td>2016-01-01 07:43:00</td>\n",
       "      <td>NYPD</td>\n",
       "      <td>New York City Police Department</td>\n",
       "      <td>Illegal Parking</td>\n",
       "      <td>Commercial Overnight Parking</td>\n",
       "      <td>Street/Sidewalk</td>\n",
       "      <td>10461.0</td>\n",
       "      <td>2940 BAISLEY AVENUE</td>\n",
       "      <td>...</td>\n",
       "      <td>NaN</td>\n",
       "      <td>NaN</td>\n",
       "      <td>NaN</td>\n",
       "      <td>NaN</td>\n",
       "      <td>NaN</td>\n",
       "      <td>NaN</td>\n",
       "      <td>NaN</td>\n",
       "      <td>40.835994</td>\n",
       "      <td>-73.828379</td>\n",
       "      <td>(40.83599404683083, -73.82837939584206)</td>\n",
       "    </tr>\n",
       "    <tr>\n",
       "      <td>4</td>\n",
       "      <td>32306529</td>\n",
       "      <td>2015-12-31 23:56:58</td>\n",
       "      <td>2016-01-01 03:24:00</td>\n",
       "      <td>NYPD</td>\n",
       "      <td>New York City Police Department</td>\n",
       "      <td>Illegal Parking</td>\n",
       "      <td>Blocked Sidewalk</td>\n",
       "      <td>Street/Sidewalk</td>\n",
       "      <td>11373.0</td>\n",
       "      <td>87-14 57 ROAD</td>\n",
       "      <td>...</td>\n",
       "      <td>NaN</td>\n",
       "      <td>NaN</td>\n",
       "      <td>NaN</td>\n",
       "      <td>NaN</td>\n",
       "      <td>NaN</td>\n",
       "      <td>NaN</td>\n",
       "      <td>NaN</td>\n",
       "      <td>40.733060</td>\n",
       "      <td>-73.874170</td>\n",
       "      <td>(40.733059618956815, -73.87416975810375)</td>\n",
       "    </tr>\n",
       "    <tr>\n",
       "      <td>...</td>\n",
       "      <td>...</td>\n",
       "      <td>...</td>\n",
       "      <td>...</td>\n",
       "      <td>...</td>\n",
       "      <td>...</td>\n",
       "      <td>...</td>\n",
       "      <td>...</td>\n",
       "      <td>...</td>\n",
       "      <td>...</td>\n",
       "      <td>...</td>\n",
       "      <td>...</td>\n",
       "      <td>...</td>\n",
       "      <td>...</td>\n",
       "      <td>...</td>\n",
       "      <td>...</td>\n",
       "      <td>...</td>\n",
       "      <td>...</td>\n",
       "      <td>...</td>\n",
       "      <td>...</td>\n",
       "      <td>...</td>\n",
       "      <td>...</td>\n",
       "    </tr>\n",
       "    <tr>\n",
       "      <td>300693</td>\n",
       "      <td>30281872</td>\n",
       "      <td>2015-03-29 00:33:41</td>\n",
       "      <td>NaT</td>\n",
       "      <td>NYPD</td>\n",
       "      <td>New York City Police Department</td>\n",
       "      <td>Noise - Commercial</td>\n",
       "      <td>Loud Music/Party</td>\n",
       "      <td>Club/Bar/Restaurant</td>\n",
       "      <td>NaN</td>\n",
       "      <td>CRESCENT AVENUE</td>\n",
       "      <td>...</td>\n",
       "      <td>NaN</td>\n",
       "      <td>NaN</td>\n",
       "      <td>NaN</td>\n",
       "      <td>NaN</td>\n",
       "      <td>NaN</td>\n",
       "      <td>NaN</td>\n",
       "      <td>NaN</td>\n",
       "      <td>NaN</td>\n",
       "      <td>NaN</td>\n",
       "      <td>NaN</td>\n",
       "    </tr>\n",
       "    <tr>\n",
       "      <td>300694</td>\n",
       "      <td>30281230</td>\n",
       "      <td>2015-03-29 00:33:28</td>\n",
       "      <td>2015-03-29 02:33:59</td>\n",
       "      <td>NYPD</td>\n",
       "      <td>New York City Police Department</td>\n",
       "      <td>Blocked Driveway</td>\n",
       "      <td>Partial Access</td>\n",
       "      <td>Street/Sidewalk</td>\n",
       "      <td>11418.0</td>\n",
       "      <td>100-17 87 AVENUE</td>\n",
       "      <td>...</td>\n",
       "      <td>NaN</td>\n",
       "      <td>NaN</td>\n",
       "      <td>NaN</td>\n",
       "      <td>NaN</td>\n",
       "      <td>NaN</td>\n",
       "      <td>NaN</td>\n",
       "      <td>NaN</td>\n",
       "      <td>40.694077</td>\n",
       "      <td>-73.846087</td>\n",
       "      <td>(40.69407728322387, -73.8460866160573)</td>\n",
       "    </tr>\n",
       "    <tr>\n",
       "      <td>300695</td>\n",
       "      <td>30283424</td>\n",
       "      <td>2015-03-29 00:33:03</td>\n",
       "      <td>2015-03-29 03:40:20</td>\n",
       "      <td>NYPD</td>\n",
       "      <td>New York City Police Department</td>\n",
       "      <td>Noise - Commercial</td>\n",
       "      <td>Loud Music/Party</td>\n",
       "      <td>Club/Bar/Restaurant</td>\n",
       "      <td>11206.0</td>\n",
       "      <td>162 THROOP AVENUE</td>\n",
       "      <td>...</td>\n",
       "      <td>NaN</td>\n",
       "      <td>NaN</td>\n",
       "      <td>NaN</td>\n",
       "      <td>NaN</td>\n",
       "      <td>NaN</td>\n",
       "      <td>NaN</td>\n",
       "      <td>NaN</td>\n",
       "      <td>40.699590</td>\n",
       "      <td>-73.944234</td>\n",
       "      <td>(40.69959035300927, -73.94423377144169)</td>\n",
       "    </tr>\n",
       "    <tr>\n",
       "      <td>300696</td>\n",
       "      <td>30280004</td>\n",
       "      <td>2015-03-29 00:33:02</td>\n",
       "      <td>2015-03-29 04:38:35</td>\n",
       "      <td>NYPD</td>\n",
       "      <td>New York City Police Department</td>\n",
       "      <td>Noise - Commercial</td>\n",
       "      <td>Loud Music/Party</td>\n",
       "      <td>Club/Bar/Restaurant</td>\n",
       "      <td>10461.0</td>\n",
       "      <td>3151 EAST TREMONT AVENUE</td>\n",
       "      <td>...</td>\n",
       "      <td>NaN</td>\n",
       "      <td>NaN</td>\n",
       "      <td>NaN</td>\n",
       "      <td>NaN</td>\n",
       "      <td>NaN</td>\n",
       "      <td>NaN</td>\n",
       "      <td>NaN</td>\n",
       "      <td>40.837708</td>\n",
       "      <td>-73.834587</td>\n",
       "      <td>(40.8377075854206, -73.83458731019586)</td>\n",
       "    </tr>\n",
       "    <tr>\n",
       "      <td>300697</td>\n",
       "      <td>30281825</td>\n",
       "      <td>2015-03-29 00:33:01</td>\n",
       "      <td>2015-03-29 04:41:50</td>\n",
       "      <td>NYPD</td>\n",
       "      <td>New York City Police Department</td>\n",
       "      <td>Noise - Commercial</td>\n",
       "      <td>Loud Music/Party</td>\n",
       "      <td>Store/Commercial</td>\n",
       "      <td>10036.0</td>\n",
       "      <td>251 WEST 48 STREET</td>\n",
       "      <td>...</td>\n",
       "      <td>NaN</td>\n",
       "      <td>NaN</td>\n",
       "      <td>NaN</td>\n",
       "      <td>NaN</td>\n",
       "      <td>NaN</td>\n",
       "      <td>NaN</td>\n",
       "      <td>NaN</td>\n",
       "      <td>40.760583</td>\n",
       "      <td>-73.985922</td>\n",
       "      <td>(40.76058322950115, -73.98592204392392)</td>\n",
       "    </tr>\n",
       "  </tbody>\n",
       "</table>\n",
       "<p>300698 rows × 53 columns</p>\n",
       "</div>"
      ],
      "text/plain": [
       "        Unique Key        Created Date         Closed Date Agency  \\\n",
       "0         32310363 2015-12-31 23:59:45 2016-01-01 00:55:00   NYPD   \n",
       "1         32309934 2015-12-31 23:59:44 2016-01-01 01:26:00   NYPD   \n",
       "2         32309159 2015-12-31 23:59:29 2016-01-01 04:51:00   NYPD   \n",
       "3         32305098 2015-12-31 23:57:46 2016-01-01 07:43:00   NYPD   \n",
       "4         32306529 2015-12-31 23:56:58 2016-01-01 03:24:00   NYPD   \n",
       "...            ...                 ...                 ...    ...   \n",
       "300693    30281872 2015-03-29 00:33:41                 NaT   NYPD   \n",
       "300694    30281230 2015-03-29 00:33:28 2015-03-29 02:33:59   NYPD   \n",
       "300695    30283424 2015-03-29 00:33:03 2015-03-29 03:40:20   NYPD   \n",
       "300696    30280004 2015-03-29 00:33:02 2015-03-29 04:38:35   NYPD   \n",
       "300697    30281825 2015-03-29 00:33:01 2015-03-29 04:41:50   NYPD   \n",
       "\n",
       "                            Agency Name           Complaint Type  \\\n",
       "0       New York City Police Department  Noise - Street/Sidewalk   \n",
       "1       New York City Police Department         Blocked Driveway   \n",
       "2       New York City Police Department         Blocked Driveway   \n",
       "3       New York City Police Department          Illegal Parking   \n",
       "4       New York City Police Department          Illegal Parking   \n",
       "...                                 ...                      ...   \n",
       "300693  New York City Police Department       Noise - Commercial   \n",
       "300694  New York City Police Department         Blocked Driveway   \n",
       "300695  New York City Police Department       Noise - Commercial   \n",
       "300696  New York City Police Department       Noise - Commercial   \n",
       "300697  New York City Police Department       Noise - Commercial   \n",
       "\n",
       "                          Descriptor        Location Type  Incident Zip  \\\n",
       "0                   Loud Music/Party      Street/Sidewalk       10034.0   \n",
       "1                          No Access      Street/Sidewalk       11105.0   \n",
       "2                          No Access      Street/Sidewalk       10458.0   \n",
       "3       Commercial Overnight Parking      Street/Sidewalk       10461.0   \n",
       "4                   Blocked Sidewalk      Street/Sidewalk       11373.0   \n",
       "...                              ...                  ...           ...   \n",
       "300693              Loud Music/Party  Club/Bar/Restaurant           NaN   \n",
       "300694                Partial Access      Street/Sidewalk       11418.0   \n",
       "300695              Loud Music/Party  Club/Bar/Restaurant       11206.0   \n",
       "300696              Loud Music/Party  Club/Bar/Restaurant       10461.0   \n",
       "300697              Loud Music/Party     Store/Commercial       10036.0   \n",
       "\n",
       "                Incident Address  ... Bridge Highway Name  \\\n",
       "0            71 VERMILYEA AVENUE  ...                 NaN   \n",
       "1                27-07 23 AVENUE  ...                 NaN   \n",
       "2          2897 VALENTINE AVENUE  ...                 NaN   \n",
       "3            2940 BAISLEY AVENUE  ...                 NaN   \n",
       "4                  87-14 57 ROAD  ...                 NaN   \n",
       "...                          ...  ...                 ...   \n",
       "300693           CRESCENT AVENUE  ...                 NaN   \n",
       "300694          100-17 87 AVENUE  ...                 NaN   \n",
       "300695         162 THROOP AVENUE  ...                 NaN   \n",
       "300696  3151 EAST TREMONT AVENUE  ...                 NaN   \n",
       "300697        251 WEST 48 STREET  ...                 NaN   \n",
       "\n",
       "       Bridge Highway Direction Road Ramp Bridge Highway Segment  \\\n",
       "0                           NaN       NaN                    NaN   \n",
       "1                           NaN       NaN                    NaN   \n",
       "2                           NaN       NaN                    NaN   \n",
       "3                           NaN       NaN                    NaN   \n",
       "4                           NaN       NaN                    NaN   \n",
       "...                         ...       ...                    ...   \n",
       "300693                      NaN       NaN                    NaN   \n",
       "300694                      NaN       NaN                    NaN   \n",
       "300695                      NaN       NaN                    NaN   \n",
       "300696                      NaN       NaN                    NaN   \n",
       "300697                      NaN       NaN                    NaN   \n",
       "\n",
       "       Garage Lot Name Ferry Direction Ferry Terminal Name   Latitude  \\\n",
       "0                  NaN             NaN                 NaN  40.865682   \n",
       "1                  NaN             NaN                 NaN  40.775945   \n",
       "2                  NaN             NaN                 NaN  40.870325   \n",
       "3                  NaN             NaN                 NaN  40.835994   \n",
       "4                  NaN             NaN                 NaN  40.733060   \n",
       "...                ...             ...                 ...        ...   \n",
       "300693             NaN             NaN                 NaN        NaN   \n",
       "300694             NaN             NaN                 NaN  40.694077   \n",
       "300695             NaN             NaN                 NaN  40.699590   \n",
       "300696             NaN             NaN                 NaN  40.837708   \n",
       "300697             NaN             NaN                 NaN  40.760583   \n",
       "\n",
       "        Longitude                                  Location  \n",
       "0      -73.923501   (40.86568153633767, -73.92350095571744)  \n",
       "1      -73.915094  (40.775945312321085, -73.91509393898605)  \n",
       "2      -73.888525  (40.870324522111424, -73.88852464418646)  \n",
       "3      -73.828379   (40.83599404683083, -73.82837939584206)  \n",
       "4      -73.874170  (40.733059618956815, -73.87416975810375)  \n",
       "...           ...                                       ...  \n",
       "300693        NaN                                       NaN  \n",
       "300694 -73.846087    (40.69407728322387, -73.8460866160573)  \n",
       "300695 -73.944234   (40.69959035300927, -73.94423377144169)  \n",
       "300696 -73.834587    (40.8377075854206, -73.83458731019586)  \n",
       "300697 -73.985922   (40.76058322950115, -73.98592204392392)  \n",
       "\n",
       "[300698 rows x 53 columns]"
      ]
     },
     "execution_count": 3,
     "metadata": {},
     "output_type": "execute_result"
    }
   ],
   "source": [
    "df"
   ]
  },
  {
   "cell_type": "markdown",
   "metadata": {},
   "source": []
  },
  {
   "cell_type": "code",
   "execution_count": 4,
   "metadata": {},
   "outputs": [
    {
     "data": {
      "text/plain": [
       "Index(['Unique Key', 'Created Date', 'Closed Date', 'Agency', 'Agency Name',\n",
       "       'Complaint Type', 'Descriptor', 'Location Type', 'Incident Zip',\n",
       "       'Incident Address', 'Street Name', 'Cross Street 1', 'Cross Street 2',\n",
       "       'Intersection Street 1', 'Intersection Street 2', 'Address Type',\n",
       "       'City', 'Landmark', 'Facility Type', 'Status', 'Due Date',\n",
       "       'Resolution Description', 'Resolution Action Updated Date',\n",
       "       'Community Board', 'Borough', 'X Coordinate (State Plane)',\n",
       "       'Y Coordinate (State Plane)', 'Park Facility Name', 'Park Borough',\n",
       "       'School Name', 'School Number', 'School Region', 'School Code',\n",
       "       'School Phone Number', 'School Address', 'School City', 'School State',\n",
       "       'School Zip', 'School Not Found', 'School or Citywide Complaint',\n",
       "       'Vehicle Type', 'Taxi Company Borough', 'Taxi Pick Up Location',\n",
       "       'Bridge Highway Name', 'Bridge Highway Direction', 'Road Ramp',\n",
       "       'Bridge Highway Segment', 'Garage Lot Name', 'Ferry Direction',\n",
       "       'Ferry Terminal Name', 'Latitude', 'Longitude', 'Location'],\n",
       "      dtype='object')"
      ]
     },
     "execution_count": 4,
     "metadata": {},
     "output_type": "execute_result"
    }
   ],
   "source": [
    "df.columns"
   ]
  },
  {
   "cell_type": "code",
   "execution_count": 5,
   "metadata": {
    "scrolled": true
   },
   "outputs": [
    {
     "name": "stdout",
     "output_type": "stream",
     "text": [
      "<class 'pandas.core.frame.DataFrame'>\n",
      "RangeIndex: 300698 entries, 0 to 300697\n",
      "Data columns (total 53 columns):\n",
      "Unique Key                        300698 non-null int64\n",
      "Created Date                      300698 non-null datetime64[ns]\n",
      "Closed Date                       298534 non-null datetime64[ns]\n",
      "Agency                            300698 non-null object\n",
      "Agency Name                       300698 non-null object\n",
      "Complaint Type                    300698 non-null object\n",
      "Descriptor                        294784 non-null object\n",
      "Location Type                     300567 non-null object\n",
      "Incident Zip                      298083 non-null float64\n",
      "Incident Address                  256288 non-null object\n",
      "Street Name                       256288 non-null object\n",
      "Cross Street 1                    251419 non-null object\n",
      "Cross Street 2                    250919 non-null object\n",
      "Intersection Street 1             43858 non-null object\n",
      "Intersection Street 2             43362 non-null object\n",
      "Address Type                      297883 non-null object\n",
      "City                              298084 non-null object\n",
      "Landmark                          349 non-null object\n",
      "Facility Type                     298527 non-null object\n",
      "Status                            300698 non-null object\n",
      "Due Date                          300695 non-null object\n",
      "Resolution Description            300698 non-null object\n",
      "Resolution Action Updated Date    298511 non-null datetime64[ns]\n",
      "Community Board                   300698 non-null object\n",
      "Borough                           300698 non-null object\n",
      "X Coordinate (State Plane)        297158 non-null float64\n",
      "Y Coordinate (State Plane)        297158 non-null float64\n",
      "Park Facility Name                300698 non-null object\n",
      "Park Borough                      300698 non-null object\n",
      "School Name                       300698 non-null object\n",
      "School Number                     300698 non-null object\n",
      "School Region                     300697 non-null object\n",
      "School Code                       300697 non-null object\n",
      "School Phone Number               300698 non-null object\n",
      "School Address                    300698 non-null object\n",
      "School City                       300698 non-null object\n",
      "School State                      300698 non-null object\n",
      "School Zip                        300697 non-null object\n",
      "School Not Found                  300698 non-null object\n",
      "School or Citywide Complaint      0 non-null float64\n",
      "Vehicle Type                      0 non-null float64\n",
      "Taxi Company Borough              0 non-null float64\n",
      "Taxi Pick Up Location             0 non-null float64\n",
      "Bridge Highway Name               243 non-null object\n",
      "Bridge Highway Direction          243 non-null object\n",
      "Road Ramp                         213 non-null object\n",
      "Bridge Highway Segment            213 non-null object\n",
      "Garage Lot Name                   0 non-null float64\n",
      "Ferry Direction                   1 non-null object\n",
      "Ferry Terminal Name               2 non-null object\n",
      "Latitude                          297158 non-null float64\n",
      "Longitude                         297158 non-null float64\n",
      "Location                          297158 non-null object\n",
      "dtypes: datetime64[ns](3), float64(10), int64(1), object(39)\n",
      "memory usage: 121.6+ MB\n"
     ]
    }
   ],
   "source": [
    "df.info()"
   ]
  },
  {
   "cell_type": "code",
   "execution_count": 6,
   "metadata": {},
   "outputs": [],
   "source": [
    "df=pd.read_csv('311_Service_Requests_from_2010_to_Present.csv',header=0, sep=',',parse_dates=['Created Date','Closed Date','Resolution Action Updated Date'], index_col='Unique Key')"
   ]
  },
  {
   "cell_type": "code",
   "execution_count": 7,
   "metadata": {},
   "outputs": [
    {
     "name": "stdout",
     "output_type": "stream",
     "text": [
      "<class 'pandas.core.frame.DataFrame'>\n",
      "Int64Index: 300698 entries, 32310363 to 30281825\n",
      "Data columns (total 52 columns):\n",
      "Created Date                      300698 non-null datetime64[ns]\n",
      "Closed Date                       298534 non-null datetime64[ns]\n",
      "Agency                            300698 non-null object\n",
      "Agency Name                       300698 non-null object\n",
      "Complaint Type                    300698 non-null object\n",
      "Descriptor                        294784 non-null object\n",
      "Location Type                     300567 non-null object\n",
      "Incident Zip                      298083 non-null float64\n",
      "Incident Address                  256288 non-null object\n",
      "Street Name                       256288 non-null object\n",
      "Cross Street 1                    251419 non-null object\n",
      "Cross Street 2                    250919 non-null object\n",
      "Intersection Street 1             43858 non-null object\n",
      "Intersection Street 2             43362 non-null object\n",
      "Address Type                      297883 non-null object\n",
      "City                              298084 non-null object\n",
      "Landmark                          349 non-null object\n",
      "Facility Type                     298527 non-null object\n",
      "Status                            300698 non-null object\n",
      "Due Date                          300695 non-null object\n",
      "Resolution Description            300698 non-null object\n",
      "Resolution Action Updated Date    298511 non-null datetime64[ns]\n",
      "Community Board                   300698 non-null object\n",
      "Borough                           300698 non-null object\n",
      "X Coordinate (State Plane)        297158 non-null float64\n",
      "Y Coordinate (State Plane)        297158 non-null float64\n",
      "Park Facility Name                300698 non-null object\n",
      "Park Borough                      300698 non-null object\n",
      "School Name                       300698 non-null object\n",
      "School Number                     300698 non-null object\n",
      "School Region                     300697 non-null object\n",
      "School Code                       300697 non-null object\n",
      "School Phone Number               300698 non-null object\n",
      "School Address                    300698 non-null object\n",
      "School City                       300698 non-null object\n",
      "School State                      300698 non-null object\n",
      "School Zip                        300697 non-null object\n",
      "School Not Found                  300698 non-null object\n",
      "School or Citywide Complaint      0 non-null float64\n",
      "Vehicle Type                      0 non-null float64\n",
      "Taxi Company Borough              0 non-null float64\n",
      "Taxi Pick Up Location             0 non-null float64\n",
      "Bridge Highway Name               243 non-null object\n",
      "Bridge Highway Direction          243 non-null object\n",
      "Road Ramp                         213 non-null object\n",
      "Bridge Highway Segment            213 non-null object\n",
      "Garage Lot Name                   0 non-null float64\n",
      "Ferry Direction                   1 non-null object\n",
      "Ferry Terminal Name               2 non-null object\n",
      "Latitude                          297158 non-null float64\n",
      "Longitude                         297158 non-null float64\n",
      "Location                          297158 non-null object\n",
      "dtypes: datetime64[ns](3), float64(10), object(39)\n",
      "memory usage: 121.6+ MB\n"
     ]
    }
   ],
   "source": [
    "df.info()"
   ]
  },
  {
   "cell_type": "markdown",
   "metadata": {},
   "source": [
    "### Findin out the missing values column"
   ]
  },
  {
   "cell_type": "code",
   "execution_count": 8,
   "metadata": {},
   "outputs": [
    {
     "data": {
      "text/plain": [
       "Created Date                        0.000000\n",
       "Closed Date                         0.719659\n",
       "Agency                              0.000000\n",
       "Agency Name                         0.000000\n",
       "Complaint Type                      0.000000\n",
       "Descriptor                          1.966757\n",
       "Location Type                       0.043565\n",
       "Incident Zip                        0.869643\n",
       "Incident Address                   14.768971\n",
       "Street Name                        14.768971\n",
       "Cross Street 1                     16.388203\n",
       "Cross Street 2                     16.554483\n",
       "Intersection Street 1              85.414602\n",
       "Intersection Street 2              85.579552\n",
       "Address Type                        0.936155\n",
       "City                                0.869311\n",
       "Landmark                           99.883937\n",
       "Facility Type                       0.721987\n",
       "Status                              0.000000\n",
       "Due Date                            0.000998\n",
       "Resolution Description              0.000000\n",
       "Resolution Action Updated Date      0.727308\n",
       "Community Board                     0.000000\n",
       "Borough                             0.000000\n",
       "X Coordinate (State Plane)          1.177261\n",
       "Y Coordinate (State Plane)          1.177261\n",
       "Park Facility Name                  0.000000\n",
       "Park Borough                        0.000000\n",
       "School Name                         0.000000\n",
       "School Number                       0.000000\n",
       "School Region                       0.000333\n",
       "School Code                         0.000333\n",
       "School Phone Number                 0.000000\n",
       "School Address                      0.000000\n",
       "School City                         0.000000\n",
       "School State                        0.000000\n",
       "School Zip                          0.000333\n",
       "School Not Found                    0.000000\n",
       "School or Citywide Complaint      100.000000\n",
       "Vehicle Type                      100.000000\n",
       "Taxi Company Borough              100.000000\n",
       "Taxi Pick Up Location             100.000000\n",
       "Bridge Highway Name                99.919188\n",
       "Bridge Highway Direction           99.919188\n",
       "Road Ramp                          99.929165\n",
       "Bridge Highway Segment             99.929165\n",
       "Garage Lot Name                   100.000000\n",
       "Ferry Direction                    99.999667\n",
       "Ferry Terminal Name                99.999335\n",
       "Latitude                            1.177261\n",
       "Longitude                           1.177261\n",
       "Location                            1.177261\n",
       "dtype: float64"
      ]
     },
     "execution_count": 8,
     "metadata": {},
     "output_type": "execute_result"
    }
   ],
   "source": [
    "(df.isnull().sum() / len(df)) * 100"
   ]
  },
  {
   "cell_type": "markdown",
   "metadata": {},
   "source": [
    "### Remove Null Value Column"
   ]
  },
  {
   "cell_type": "code",
   "execution_count": 9,
   "metadata": {},
   "outputs": [],
   "source": [
    "df3=df.dropna(axis = 'columns', how = 'all')"
   ]
  },
  {
   "cell_type": "code",
   "execution_count": 10,
   "metadata": {},
   "outputs": [
    {
     "name": "stdout",
     "output_type": "stream",
     "text": [
      "<class 'pandas.core.frame.DataFrame'>\n",
      "Int64Index: 300698 entries, 32310363 to 30281825\n",
      "Data columns (total 47 columns):\n",
      "Created Date                      300698 non-null datetime64[ns]\n",
      "Closed Date                       298534 non-null datetime64[ns]\n",
      "Agency                            300698 non-null object\n",
      "Agency Name                       300698 non-null object\n",
      "Complaint Type                    300698 non-null object\n",
      "Descriptor                        294784 non-null object\n",
      "Location Type                     300567 non-null object\n",
      "Incident Zip                      298083 non-null float64\n",
      "Incident Address                  256288 non-null object\n",
      "Street Name                       256288 non-null object\n",
      "Cross Street 1                    251419 non-null object\n",
      "Cross Street 2                    250919 non-null object\n",
      "Intersection Street 1             43858 non-null object\n",
      "Intersection Street 2             43362 non-null object\n",
      "Address Type                      297883 non-null object\n",
      "City                              298084 non-null object\n",
      "Landmark                          349 non-null object\n",
      "Facility Type                     298527 non-null object\n",
      "Status                            300698 non-null object\n",
      "Due Date                          300695 non-null object\n",
      "Resolution Description            300698 non-null object\n",
      "Resolution Action Updated Date    298511 non-null datetime64[ns]\n",
      "Community Board                   300698 non-null object\n",
      "Borough                           300698 non-null object\n",
      "X Coordinate (State Plane)        297158 non-null float64\n",
      "Y Coordinate (State Plane)        297158 non-null float64\n",
      "Park Facility Name                300698 non-null object\n",
      "Park Borough                      300698 non-null object\n",
      "School Name                       300698 non-null object\n",
      "School Number                     300698 non-null object\n",
      "School Region                     300697 non-null object\n",
      "School Code                       300697 non-null object\n",
      "School Phone Number               300698 non-null object\n",
      "School Address                    300698 non-null object\n",
      "School City                       300698 non-null object\n",
      "School State                      300698 non-null object\n",
      "School Zip                        300697 non-null object\n",
      "School Not Found                  300698 non-null object\n",
      "Bridge Highway Name               243 non-null object\n",
      "Bridge Highway Direction          243 non-null object\n",
      "Road Ramp                         213 non-null object\n",
      "Bridge Highway Segment            213 non-null object\n",
      "Ferry Direction                   1 non-null object\n",
      "Ferry Terminal Name               2 non-null object\n",
      "Latitude                          297158 non-null float64\n",
      "Longitude                         297158 non-null float64\n",
      "Location                          297158 non-null object\n",
      "dtypes: datetime64[ns](3), float64(5), object(39)\n",
      "memory usage: 110.1+ MB\n"
     ]
    }
   ],
   "source": [
    "df3.info()"
   ]
  },
  {
   "cell_type": "code",
   "execution_count": 11,
   "metadata": {},
   "outputs": [
    {
     "data": {
      "text/plain": [
       "(300698, 47)"
      ]
     },
     "execution_count": 11,
     "metadata": {},
     "output_type": "execute_result"
    }
   ],
   "source": [
    "df3.shape\n"
   ]
  },
  {
   "cell_type": "code",
   "execution_count": 12,
   "metadata": {},
   "outputs": [
    {
     "data": {
      "text/plain": [
       "(300698, 52)"
      ]
     },
     "execution_count": 12,
     "metadata": {},
     "output_type": "execute_result"
    }
   ],
   "source": [
    "df.shape"
   ]
  },
  {
   "cell_type": "code",
   "execution_count": 13,
   "metadata": {},
   "outputs": [],
   "source": [
    "df4=df.dropna(thresh=df.shape[0]*0.9,how='all',axis=1)"
   ]
  },
  {
   "cell_type": "code",
   "execution_count": 14,
   "metadata": {},
   "outputs": [
    {
     "data": {
      "text/plain": [
       "Created Date                      0.000000\n",
       "Closed Date                       0.719659\n",
       "Agency                            0.000000\n",
       "Agency Name                       0.000000\n",
       "Complaint Type                    0.000000\n",
       "Descriptor                        1.966757\n",
       "Location Type                     0.043565\n",
       "Incident Zip                      0.869643\n",
       "Address Type                      0.936155\n",
       "City                              0.869311\n",
       "Facility Type                     0.721987\n",
       "Status                            0.000000\n",
       "Due Date                          0.000998\n",
       "Resolution Description            0.000000\n",
       "Resolution Action Updated Date    0.727308\n",
       "Community Board                   0.000000\n",
       "Borough                           0.000000\n",
       "X Coordinate (State Plane)        1.177261\n",
       "Y Coordinate (State Plane)        1.177261\n",
       "Park Facility Name                0.000000\n",
       "Park Borough                      0.000000\n",
       "School Name                       0.000000\n",
       "School Number                     0.000000\n",
       "School Region                     0.000333\n",
       "School Code                       0.000333\n",
       "School Phone Number               0.000000\n",
       "School Address                    0.000000\n",
       "School City                       0.000000\n",
       "School State                      0.000000\n",
       "School Zip                        0.000333\n",
       "School Not Found                  0.000000\n",
       "Latitude                          1.177261\n",
       "Longitude                         1.177261\n",
       "Location                          1.177261\n",
       "dtype: float64"
      ]
     },
     "execution_count": 14,
     "metadata": {},
     "output_type": "execute_result"
    }
   ],
   "source": [
    "\n",
    "(df4.isnull().sum() / len(df)) * 100\n"
   ]
  },
  {
   "cell_type": "markdown",
   "metadata": {},
   "source": [
    "#### Covert the columns ‘Created Date’ and Closed Date’ to datetime datatype and create a new column ‘Request_Closing_Time’"
   ]
  },
  {
   "cell_type": "code",
   "execution_count": 15,
   "metadata": {},
   "outputs": [
    {
     "data": {
      "text/html": [
       "<div>\n",
       "<style scoped>\n",
       "    .dataframe tbody tr th:only-of-type {\n",
       "        vertical-align: middle;\n",
       "    }\n",
       "\n",
       "    .dataframe tbody tr th {\n",
       "        vertical-align: top;\n",
       "    }\n",
       "\n",
       "    .dataframe thead th {\n",
       "        text-align: right;\n",
       "    }\n",
       "</style>\n",
       "<table border=\"1\" class=\"dataframe\">\n",
       "  <thead>\n",
       "    <tr style=\"text-align: right;\">\n",
       "      <th></th>\n",
       "      <th>Incident Zip</th>\n",
       "      <th>X Coordinate (State Plane)</th>\n",
       "      <th>Y Coordinate (State Plane)</th>\n",
       "      <th>School or Citywide Complaint</th>\n",
       "      <th>Vehicle Type</th>\n",
       "      <th>Taxi Company Borough</th>\n",
       "      <th>Taxi Pick Up Location</th>\n",
       "      <th>Garage Lot Name</th>\n",
       "      <th>Latitude</th>\n",
       "      <th>Longitude</th>\n",
       "    </tr>\n",
       "  </thead>\n",
       "  <tbody>\n",
       "    <tr>\n",
       "      <td>count</td>\n",
       "      <td>298083.000000</td>\n",
       "      <td>2.971580e+05</td>\n",
       "      <td>297158.000000</td>\n",
       "      <td>0.0</td>\n",
       "      <td>0.0</td>\n",
       "      <td>0.0</td>\n",
       "      <td>0.0</td>\n",
       "      <td>0.0</td>\n",
       "      <td>297158.000000</td>\n",
       "      <td>297158.000000</td>\n",
       "    </tr>\n",
       "    <tr>\n",
       "      <td>mean</td>\n",
       "      <td>10848.888645</td>\n",
       "      <td>1.004854e+06</td>\n",
       "      <td>203754.534416</td>\n",
       "      <td>NaN</td>\n",
       "      <td>NaN</td>\n",
       "      <td>NaN</td>\n",
       "      <td>NaN</td>\n",
       "      <td>NaN</td>\n",
       "      <td>40.725885</td>\n",
       "      <td>-73.925630</td>\n",
       "    </tr>\n",
       "    <tr>\n",
       "      <td>std</td>\n",
       "      <td>583.182081</td>\n",
       "      <td>2.175338e+04</td>\n",
       "      <td>29880.183529</td>\n",
       "      <td>NaN</td>\n",
       "      <td>NaN</td>\n",
       "      <td>NaN</td>\n",
       "      <td>NaN</td>\n",
       "      <td>NaN</td>\n",
       "      <td>0.082012</td>\n",
       "      <td>0.078454</td>\n",
       "    </tr>\n",
       "    <tr>\n",
       "      <td>min</td>\n",
       "      <td>83.000000</td>\n",
       "      <td>9.133570e+05</td>\n",
       "      <td>121219.000000</td>\n",
       "      <td>NaN</td>\n",
       "      <td>NaN</td>\n",
       "      <td>NaN</td>\n",
       "      <td>NaN</td>\n",
       "      <td>NaN</td>\n",
       "      <td>40.499135</td>\n",
       "      <td>-74.254937</td>\n",
       "    </tr>\n",
       "    <tr>\n",
       "      <td>25%</td>\n",
       "      <td>10310.000000</td>\n",
       "      <td>9.919752e+05</td>\n",
       "      <td>183343.000000</td>\n",
       "      <td>NaN</td>\n",
       "      <td>NaN</td>\n",
       "      <td>NaN</td>\n",
       "      <td>NaN</td>\n",
       "      <td>NaN</td>\n",
       "      <td>40.669796</td>\n",
       "      <td>-73.972142</td>\n",
       "    </tr>\n",
       "    <tr>\n",
       "      <td>50%</td>\n",
       "      <td>11208.000000</td>\n",
       "      <td>1.003158e+06</td>\n",
       "      <td>201110.500000</td>\n",
       "      <td>NaN</td>\n",
       "      <td>NaN</td>\n",
       "      <td>NaN</td>\n",
       "      <td>NaN</td>\n",
       "      <td>NaN</td>\n",
       "      <td>40.718661</td>\n",
       "      <td>-73.931781</td>\n",
       "    </tr>\n",
       "    <tr>\n",
       "      <td>75%</td>\n",
       "      <td>11238.000000</td>\n",
       "      <td>1.018372e+06</td>\n",
       "      <td>224125.250000</td>\n",
       "      <td>NaN</td>\n",
       "      <td>NaN</td>\n",
       "      <td>NaN</td>\n",
       "      <td>NaN</td>\n",
       "      <td>NaN</td>\n",
       "      <td>40.781840</td>\n",
       "      <td>-73.876805</td>\n",
       "    </tr>\n",
       "    <tr>\n",
       "      <td>max</td>\n",
       "      <td>11697.000000</td>\n",
       "      <td>1.067173e+06</td>\n",
       "      <td>271876.000000</td>\n",
       "      <td>NaN</td>\n",
       "      <td>NaN</td>\n",
       "      <td>NaN</td>\n",
       "      <td>NaN</td>\n",
       "      <td>NaN</td>\n",
       "      <td>40.912869</td>\n",
       "      <td>-73.700760</td>\n",
       "    </tr>\n",
       "  </tbody>\n",
       "</table>\n",
       "</div>"
      ],
      "text/plain": [
       "        Incident Zip  X Coordinate (State Plane)  Y Coordinate (State Plane)  \\\n",
       "count  298083.000000                2.971580e+05               297158.000000   \n",
       "mean    10848.888645                1.004854e+06               203754.534416   \n",
       "std       583.182081                2.175338e+04                29880.183529   \n",
       "min        83.000000                9.133570e+05               121219.000000   \n",
       "25%     10310.000000                9.919752e+05               183343.000000   \n",
       "50%     11208.000000                1.003158e+06               201110.500000   \n",
       "75%     11238.000000                1.018372e+06               224125.250000   \n",
       "max     11697.000000                1.067173e+06               271876.000000   \n",
       "\n",
       "       School or Citywide Complaint  Vehicle Type  Taxi Company Borough  \\\n",
       "count                           0.0           0.0                   0.0   \n",
       "mean                            NaN           NaN                   NaN   \n",
       "std                             NaN           NaN                   NaN   \n",
       "min                             NaN           NaN                   NaN   \n",
       "25%                             NaN           NaN                   NaN   \n",
       "50%                             NaN           NaN                   NaN   \n",
       "75%                             NaN           NaN                   NaN   \n",
       "max                             NaN           NaN                   NaN   \n",
       "\n",
       "       Taxi Pick Up Location  Garage Lot Name       Latitude      Longitude  \n",
       "count                    0.0              0.0  297158.000000  297158.000000  \n",
       "mean                     NaN              NaN      40.725885     -73.925630  \n",
       "std                      NaN              NaN       0.082012       0.078454  \n",
       "min                      NaN              NaN      40.499135     -74.254937  \n",
       "25%                      NaN              NaN      40.669796     -73.972142  \n",
       "50%                      NaN              NaN      40.718661     -73.931781  \n",
       "75%                      NaN              NaN      40.781840     -73.876805  \n",
       "max                      NaN              NaN      40.912869     -73.700760  "
      ]
     },
     "execution_count": 15,
     "metadata": {},
     "output_type": "execute_result"
    }
   ],
   "source": [
    "df.describe()"
   ]
  },
  {
   "cell_type": "code",
   "execution_count": 16,
   "metadata": {},
   "outputs": [
    {
     "data": {
      "text/plain": [
       "(300698, 52)"
      ]
     },
     "execution_count": 16,
     "metadata": {},
     "output_type": "execute_result"
    }
   ],
   "source": [
    "df.shape"
   ]
  },
  {
   "cell_type": "code",
   "execution_count": 17,
   "metadata": {},
   "outputs": [],
   "source": [
    "df['Request_Closing_Time']=df['Closed Date']-df['Created Date']"
   ]
  },
  {
   "cell_type": "code",
   "execution_count": 18,
   "metadata": {},
   "outputs": [
    {
     "data": {
      "text/plain": [
       "(300698, 53)"
      ]
     },
     "execution_count": 18,
     "metadata": {},
     "output_type": "execute_result"
    }
   ],
   "source": [
    "df.shape"
   ]
  },
  {
   "cell_type": "markdown",
   "metadata": {},
   "source": [
    "### 3. \n",
    "Provide major insights/patterns that you can offer in a visual format (graphs or tables); at least 4 major conclusions that you can come up with after generic data mining."
   ]
  },
  {
   "cell_type": "code",
   "execution_count": 19,
   "metadata": {},
   "outputs": [
    {
     "data": {
      "text/plain": [
       "array(['Noise - Street/Sidewalk', 'Blocked Driveway', 'Illegal Parking',\n",
       "       'Derelict Vehicle', 'Noise - Commercial',\n",
       "       'Noise - House of Worship', 'Posting Advertisement',\n",
       "       'Noise - Vehicle', 'Animal Abuse', 'Vending', 'Traffic',\n",
       "       'Drinking', 'Bike/Roller/Skate Chronic', 'Panhandling',\n",
       "       'Noise - Park', 'Homeless Encampment', 'Urinating in Public',\n",
       "       'Graffiti', 'Disorderly Youth', 'Illegal Fireworks',\n",
       "       'Ferry Complaint', 'Agency Issues', 'Squeegee', 'Animal in a Park'],\n",
       "      dtype=object)"
      ]
     },
     "execution_count": 19,
     "metadata": {},
     "output_type": "execute_result"
    }
   ],
   "source": [
    "# Major insights\n",
    "df['Complaint Type'].unique()"
   ]
  },
  {
   "cell_type": "code",
   "execution_count": 20,
   "metadata": {},
   "outputs": [],
   "source": [
    "#Insite1:Majority of complaints\n",
    "insite1= df[['Complaint Type','Agency']].groupby('Complaint Type').count()"
   ]
  },
  {
   "cell_type": "code",
   "execution_count": 21,
   "metadata": {},
   "outputs": [
    {
     "data": {
      "text/html": [
       "<div>\n",
       "<style scoped>\n",
       "    .dataframe tbody tr th:only-of-type {\n",
       "        vertical-align: middle;\n",
       "    }\n",
       "\n",
       "    .dataframe tbody tr th {\n",
       "        vertical-align: top;\n",
       "    }\n",
       "\n",
       "    .dataframe thead th {\n",
       "        text-align: right;\n",
       "    }\n",
       "</style>\n",
       "<table border=\"1\" class=\"dataframe\">\n",
       "  <thead>\n",
       "    <tr style=\"text-align: right;\">\n",
       "      <th></th>\n",
       "      <th>Agency</th>\n",
       "    </tr>\n",
       "    <tr>\n",
       "      <th>Complaint Type</th>\n",
       "      <th></th>\n",
       "    </tr>\n",
       "  </thead>\n",
       "  <tbody>\n",
       "    <tr>\n",
       "      <td>Agency Issues</td>\n",
       "      <td>6</td>\n",
       "    </tr>\n",
       "    <tr>\n",
       "      <td>Animal Abuse</td>\n",
       "      <td>7778</td>\n",
       "    </tr>\n",
       "    <tr>\n",
       "      <td>Animal in a Park</td>\n",
       "      <td>1</td>\n",
       "    </tr>\n",
       "    <tr>\n",
       "      <td>Bike/Roller/Skate Chronic</td>\n",
       "      <td>427</td>\n",
       "    </tr>\n",
       "    <tr>\n",
       "      <td>Blocked Driveway</td>\n",
       "      <td>77044</td>\n",
       "    </tr>\n",
       "    <tr>\n",
       "      <td>Derelict Vehicle</td>\n",
       "      <td>17718</td>\n",
       "    </tr>\n",
       "    <tr>\n",
       "      <td>Disorderly Youth</td>\n",
       "      <td>286</td>\n",
       "    </tr>\n",
       "    <tr>\n",
       "      <td>Drinking</td>\n",
       "      <td>1280</td>\n",
       "    </tr>\n",
       "    <tr>\n",
       "      <td>Ferry Complaint</td>\n",
       "      <td>2</td>\n",
       "    </tr>\n",
       "    <tr>\n",
       "      <td>Graffiti</td>\n",
       "      <td>113</td>\n",
       "    </tr>\n",
       "    <tr>\n",
       "      <td>Homeless Encampment</td>\n",
       "      <td>4416</td>\n",
       "    </tr>\n",
       "    <tr>\n",
       "      <td>Illegal Fireworks</td>\n",
       "      <td>168</td>\n",
       "    </tr>\n",
       "    <tr>\n",
       "      <td>Illegal Parking</td>\n",
       "      <td>75361</td>\n",
       "    </tr>\n",
       "    <tr>\n",
       "      <td>Noise - Commercial</td>\n",
       "      <td>35577</td>\n",
       "    </tr>\n",
       "    <tr>\n",
       "      <td>Noise - House of Worship</td>\n",
       "      <td>931</td>\n",
       "    </tr>\n",
       "    <tr>\n",
       "      <td>Noise - Park</td>\n",
       "      <td>4042</td>\n",
       "    </tr>\n",
       "    <tr>\n",
       "      <td>Noise - Street/Sidewalk</td>\n",
       "      <td>48612</td>\n",
       "    </tr>\n",
       "    <tr>\n",
       "      <td>Noise - Vehicle</td>\n",
       "      <td>17083</td>\n",
       "    </tr>\n",
       "    <tr>\n",
       "      <td>Panhandling</td>\n",
       "      <td>307</td>\n",
       "    </tr>\n",
       "    <tr>\n",
       "      <td>Posting Advertisement</td>\n",
       "      <td>650</td>\n",
       "    </tr>\n",
       "    <tr>\n",
       "      <td>Squeegee</td>\n",
       "      <td>4</td>\n",
       "    </tr>\n",
       "    <tr>\n",
       "      <td>Traffic</td>\n",
       "      <td>4498</td>\n",
       "    </tr>\n",
       "    <tr>\n",
       "      <td>Urinating in Public</td>\n",
       "      <td>592</td>\n",
       "    </tr>\n",
       "    <tr>\n",
       "      <td>Vending</td>\n",
       "      <td>3802</td>\n",
       "    </tr>\n",
       "  </tbody>\n",
       "</table>\n",
       "</div>"
      ],
      "text/plain": [
       "                           Agency\n",
       "Complaint Type                   \n",
       "Agency Issues                   6\n",
       "Animal Abuse                 7778\n",
       "Animal in a Park                1\n",
       "Bike/Roller/Skate Chronic     427\n",
       "Blocked Driveway            77044\n",
       "Derelict Vehicle            17718\n",
       "Disorderly Youth              286\n",
       "Drinking                     1280\n",
       "Ferry Complaint                 2\n",
       "Graffiti                      113\n",
       "Homeless Encampment          4416\n",
       "Illegal Fireworks             168\n",
       "Illegal Parking             75361\n",
       "Noise - Commercial          35577\n",
       "Noise - House of Worship      931\n",
       "Noise - Park                 4042\n",
       "Noise - Street/Sidewalk     48612\n",
       "Noise - Vehicle             17083\n",
       "Panhandling                   307\n",
       "Posting Advertisement         650\n",
       "Squeegee                        4\n",
       "Traffic                      4498\n",
       "Urinating in Public           592\n",
       "Vending                      3802"
      ]
     },
     "execution_count": 21,
     "metadata": {},
     "output_type": "execute_result"
    }
   ],
   "source": [
    "insite1"
   ]
  },
  {
   "cell_type": "code",
   "execution_count": 22,
   "metadata": {},
   "outputs": [],
   "source": [
    "# Rename Agency column to  Entries\n",
    "insite1.rename(columns={'Agency': 'Entries'}, inplace= True)\n",
    "insite1.sort_values('Entries', inplace= True, ascending= False)"
   ]
  },
  {
   "cell_type": "code",
   "execution_count": 23,
   "metadata": {},
   "outputs": [
    {
     "data": {
      "text/html": [
       "<div>\n",
       "<style scoped>\n",
       "    .dataframe tbody tr th:only-of-type {\n",
       "        vertical-align: middle;\n",
       "    }\n",
       "\n",
       "    .dataframe tbody tr th {\n",
       "        vertical-align: top;\n",
       "    }\n",
       "\n",
       "    .dataframe thead th {\n",
       "        text-align: right;\n",
       "    }\n",
       "</style>\n",
       "<table border=\"1\" class=\"dataframe\">\n",
       "  <thead>\n",
       "    <tr style=\"text-align: right;\">\n",
       "      <th></th>\n",
       "      <th>Entries</th>\n",
       "    </tr>\n",
       "    <tr>\n",
       "      <th>Complaint Type</th>\n",
       "      <th></th>\n",
       "    </tr>\n",
       "  </thead>\n",
       "  <tbody>\n",
       "    <tr>\n",
       "      <td>Blocked Driveway</td>\n",
       "      <td>77044</td>\n",
       "    </tr>\n",
       "    <tr>\n",
       "      <td>Illegal Parking</td>\n",
       "      <td>75361</td>\n",
       "    </tr>\n",
       "    <tr>\n",
       "      <td>Noise - Street/Sidewalk</td>\n",
       "      <td>48612</td>\n",
       "    </tr>\n",
       "    <tr>\n",
       "      <td>Noise - Commercial</td>\n",
       "      <td>35577</td>\n",
       "    </tr>\n",
       "    <tr>\n",
       "      <td>Derelict Vehicle</td>\n",
       "      <td>17718</td>\n",
       "    </tr>\n",
       "    <tr>\n",
       "      <td>Noise - Vehicle</td>\n",
       "      <td>17083</td>\n",
       "    </tr>\n",
       "    <tr>\n",
       "      <td>Animal Abuse</td>\n",
       "      <td>7778</td>\n",
       "    </tr>\n",
       "    <tr>\n",
       "      <td>Traffic</td>\n",
       "      <td>4498</td>\n",
       "    </tr>\n",
       "    <tr>\n",
       "      <td>Homeless Encampment</td>\n",
       "      <td>4416</td>\n",
       "    </tr>\n",
       "    <tr>\n",
       "      <td>Noise - Park</td>\n",
       "      <td>4042</td>\n",
       "    </tr>\n",
       "  </tbody>\n",
       "</table>\n",
       "</div>"
      ],
      "text/plain": [
       "                         Entries\n",
       "Complaint Type                  \n",
       "Blocked Driveway           77044\n",
       "Illegal Parking            75361\n",
       "Noise - Street/Sidewalk    48612\n",
       "Noise - Commercial         35577\n",
       "Derelict Vehicle           17718\n",
       "Noise - Vehicle            17083\n",
       "Animal Abuse                7778\n",
       "Traffic                     4498\n",
       "Homeless Encampment         4416\n",
       "Noise - Park                4042"
      ]
     },
     "execution_count": 23,
     "metadata": {},
     "output_type": "execute_result"
    }
   ],
   "source": [
    "insite1.head(10)"
   ]
  },
  {
   "cell_type": "markdown",
   "metadata": {},
   "source": [
    "#### Graphical Representation"
   ]
  },
  {
   "cell_type": "code",
   "execution_count": 24,
   "metadata": {},
   "outputs": [
    {
     "data": {
      "text/plain": [
       "<matplotlib.axes._subplots.AxesSubplot at 0x1bae64a1688>"
      ]
     },
     "execution_count": 24,
     "metadata": {},
     "output_type": "execute_result"
    },
    {
     "data": {
      "image/png": "[encoded data removed]",
      "text/plain": [
       "<Figure size 720x432 with 1 Axes>"
      ]
     },
     "metadata": {
      "needs_background": "light"
     },
     "output_type": "display_data"
    }
   ],
   "source": [
    "# Complaint type with bar plot to figure out majority of complaint types and top 10 complaints\n",
    "(df['Complaint Type'].value_counts()).head(10).plot(kind='bar',figsize=(10,6), title='most frequent complaints')\n"
   ]
  },
  {
   "cell_type": "markdown",
   "metadata": {},
   "source": [
    "## Insite2: Finding out maximum complaints Comming from which cities"
   ]
  },
  {
   "cell_type": "code",
   "execution_count": 25,
   "metadata": {},
   "outputs": [],
   "source": [
    "insite2=df[['City','Agency']].groupby('City').count()"
   ]
  },
  {
   "cell_type": "code",
   "execution_count": 26,
   "metadata": {},
   "outputs": [],
   "source": [
    "insite2.rename(columns= {'Agency':'Entries'}, inplace=True)"
   ]
  },
  {
   "cell_type": "code",
   "execution_count": 27,
   "metadata": {},
   "outputs": [],
   "source": [
    "insite2.sort_values('Entries', inplace= True, ascending= False )"
   ]
  },
  {
   "cell_type": "code",
   "execution_count": 28,
   "metadata": {},
   "outputs": [
    {
     "data": {
      "text/html": [
       "<div>\n",
       "<style scoped>\n",
       "    .dataframe tbody tr th:only-of-type {\n",
       "        vertical-align: middle;\n",
       "    }\n",
       "\n",
       "    .dataframe tbody tr th {\n",
       "        vertical-align: top;\n",
       "    }\n",
       "\n",
       "    .dataframe thead th {\n",
       "        text-align: right;\n",
       "    }\n",
       "</style>\n",
       "<table border=\"1\" class=\"dataframe\">\n",
       "  <thead>\n",
       "    <tr style=\"text-align: right;\">\n",
       "      <th></th>\n",
       "      <th>Entries</th>\n",
       "    </tr>\n",
       "    <tr>\n",
       "      <th>City</th>\n",
       "      <th></th>\n",
       "    </tr>\n",
       "  </thead>\n",
       "  <tbody>\n",
       "    <tr>\n",
       "      <td>BROOKLYN</td>\n",
       "      <td>98307</td>\n",
       "    </tr>\n",
       "    <tr>\n",
       "      <td>NEW YORK</td>\n",
       "      <td>65994</td>\n",
       "    </tr>\n",
       "    <tr>\n",
       "      <td>BRONX</td>\n",
       "      <td>40702</td>\n",
       "    </tr>\n",
       "    <tr>\n",
       "      <td>STATEN ISLAND</td>\n",
       "      <td>12343</td>\n",
       "    </tr>\n",
       "    <tr>\n",
       "      <td>JAMAICA</td>\n",
       "      <td>7296</td>\n",
       "    </tr>\n",
       "    <tr>\n",
       "      <td>ASTORIA</td>\n",
       "      <td>6330</td>\n",
       "    </tr>\n",
       "    <tr>\n",
       "      <td>FLUSHING</td>\n",
       "      <td>5971</td>\n",
       "    </tr>\n",
       "    <tr>\n",
       "      <td>RIDGEWOOD</td>\n",
       "      <td>5163</td>\n",
       "    </tr>\n",
       "    <tr>\n",
       "      <td>CORONA</td>\n",
       "      <td>4295</td>\n",
       "    </tr>\n",
       "    <tr>\n",
       "      <td>WOODSIDE</td>\n",
       "      <td>3544</td>\n",
       "    </tr>\n",
       "  </tbody>\n",
       "</table>\n",
       "</div>"
      ],
      "text/plain": [
       "               Entries\n",
       "City                  \n",
       "BROOKLYN         98307\n",
       "NEW YORK         65994\n",
       "BRONX            40702\n",
       "STATEN ISLAND    12343\n",
       "JAMAICA           7296\n",
       "ASTORIA           6330\n",
       "FLUSHING          5971\n",
       "RIDGEWOOD         5163\n",
       "CORONA            4295\n",
       "WOODSIDE          3544"
      ]
     },
     "execution_count": 28,
     "metadata": {},
     "output_type": "execute_result"
    }
   ],
   "source": [
    "insite2.head(10)"
   ]
  },
  {
   "cell_type": "markdown",
   "metadata": {},
   "source": [
    "\n",
    "## insite3"
   ]
  },
  {
   "cell_type": "code",
   "execution_count": 29,
   "metadata": {},
   "outputs": [
    {
     "data": {
      "text/plain": [
       "<bound method Series.unique of Unique Key\n",
       "32310363      MANHATTAN\n",
       "32309934         QUEENS\n",
       "32309159          BRONX\n",
       "32305098          BRONX\n",
       "32306529         QUEENS\n",
       "               ...     \n",
       "30281872    Unspecified\n",
       "30281230         QUEENS\n",
       "30283424       BROOKLYN\n",
       "30280004          BRONX\n",
       "30281825      MANHATTAN\n",
       "Name: Borough, Length: 300698, dtype: object>"
      ]
     },
     "execution_count": 29,
     "metadata": {},
     "output_type": "execute_result"
    }
   ],
   "source": [
    "# pie graph for most frequent complaints cities\n",
    "# complaints distribution across Boroughs\n",
    "df.Borough.unique"
   ]
  },
  {
   "cell_type": "code",
   "execution_count": 30,
   "metadata": {},
   "outputs": [
    {
     "data": {
      "image/png": "[encoded data removed]",
      "text/plain": [
       "<Figure size 576x432 with 1 Axes>"
      ]
     },
     "metadata": {},
     "output_type": "display_data"
    }
   ],
   "source": [
    "# complaints distribution across Boroughs\n",
    "colors = ['#639ace','#ca6b39','#7f67ca','#5ba85f','#c360aa','#a7993f','#cc566a']\n",
    "df['Borough'].value_counts().head(5).plot(kind='pie', autopct= '%1.1f%%', figsize=(8,6), explode=(0.03, 0, 0, 0, 0), startangle=90, shadow=False, colors=colors)\n",
    "plt.axis('equal')\n",
    "plt.title('# complaints distribution across Boroughs\\n')\n",
    "plt.tight_layout()\n",
    "plt.show()"
   ]
  },
  {
   "cell_type": "code",
   "execution_count": 31,
   "metadata": {},
   "outputs": [],
   "source": [
    "# Analysis of city which has heighest number of complaints\n",
    "df_brouklyn=df[df['Borough']=='BROOKLYN']"
   ]
  },
  {
   "cell_type": "code",
   "execution_count": 32,
   "metadata": {},
   "outputs": [
    {
     "data": {
      "text/plain": [
       "(98307, 53)"
      ]
     },
     "execution_count": 32,
     "metadata": {},
     "output_type": "execute_result"
    }
   ],
   "source": [
    "df_brouklyn.shape"
   ]
  },
  {
   "cell_type": "code",
   "execution_count": 33,
   "metadata": {},
   "outputs": [
    {
     "data": {
      "text/plain": [
       "<matplotlib.axes._subplots.AxesSubplot at 0x1bae14d37c8>"
      ]
     },
     "execution_count": 33,
     "metadata": {},
     "output_type": "execute_result"
    },
    {
     "data": {
      "image/png": "[encoded data removed]",
      "text/plain": [
       "<Figure size 720x432 with 1 Axes>"
      ]
     },
     "metadata": {
      "needs_background": "light"
     },
     "output_type": "display_data"
    }
   ],
   "source": [
    "#Anlysis of Most Frequent complaint in Brooklyn\n",
    "(df_brouklyn['Complaint Type'].value_counts()).head(10).plot(kind='bar', figsize=(10,6), title = 'Most Frequent Complaints in Brooklyn')"
   ]
  },
  {
   "cell_type": "code",
   "execution_count": 34,
   "metadata": {},
   "outputs": [
    {
     "data": {
      "text/plain": [
       "<matplotlib.axes._subplots.AxesSubplot at 0x1bad0a2da08>"
      ]
     },
     "execution_count": 34,
     "metadata": {},
     "output_type": "execute_result"
    },
    {
     "data": {
      "image/png": "[encoded data removed]",
      "text/plain": [
       "<Figure size 720x144 with 1 Axes>"
      ]
     },
     "metadata": {
      "needs_background": "light"
     },
     "output_type": "display_data"
    }
   ],
   "source": [
    "# Location and complaint\n",
    "(df_brouklyn['Location Type'].value_counts()).head(10).plot(kind='bar',figsize=(10,2), title='Location vs Complaint' )"
   ]
  },
  {
   "cell_type": "code",
   "execution_count": 35,
   "metadata": {},
   "outputs": [],
   "source": [
    "# Analysis of most frequent complaint type in brooklyn\n",
    "df_Brook_blocked = df_brouklyn[df_brouklyn['Complaint Type'] == 'Blocked Driveway']"
   ]
  },
  {
   "cell_type": "code",
   "execution_count": 36,
   "metadata": {},
   "outputs": [
    {
     "data": {
      "text/plain": [
       "(28148, 53)"
      ]
     },
     "execution_count": 36,
     "metadata": {},
     "output_type": "execute_result"
    }
   ],
   "source": [
    "df_Brook_blocked.shape"
   ]
  },
  {
   "cell_type": "code",
   "execution_count": 37,
   "metadata": {},
   "outputs": [
    {
     "data": {
      "text/plain": [
       "(-74.04069667018493, -73.85577605981507, 40.57286021, 40.73822772)"
      ]
     },
     "execution_count": 37,
     "metadata": {},
     "output_type": "execute_result"
    },
    {
     "data": {
      "image/png": "[encoded data removed]",
      "text/plain": [
       "<Figure size 720x432 with 2 Axes>"
      ]
     },
     "metadata": {
      "needs_background": "light"
     },
     "output_type": "display_data"
    }
   ],
   "source": [
    "df_Brook_blocked.plot(kind='hexbin', x='Longitude', y='Latitude', gridsize=40, title = 'Blocked driveway issues concentration across Brooklyn\\n', colormap='jet', mincnt=1, figsize=(10,6)).axis('equal')"
   ]
  },
  {
   "cell_type": "code",
   "execution_count": 41,
   "metadata": {},
   "outputs": [],
   "source": [
    "df['Resolution_Time'] = (df['Closed Date'] - df['Created Date']).dt.total_seconds()"
   ]
  },
  {
   "cell_type": "code",
   "execution_count": 42,
   "metadata": {},
   "outputs": [
    {
     "name": "stdout",
     "output_type": "stream",
     "text": [
      "<class 'pandas.core.frame.DataFrame'>\n",
      "Int64Index: 300698 entries, 32310363 to 30281825\n",
      "Data columns (total 54 columns):\n",
      "Created Date                      300698 non-null datetime64[ns]\n",
      "Closed Date                       298534 non-null datetime64[ns]\n",
      "Agency                            300698 non-null object\n",
      "Agency Name                       300698 non-null object\n",
      "Complaint Type                    300698 non-null object\n",
      "Descriptor                        294784 non-null object\n",
      "Location Type                     300567 non-null object\n",
      "Incident Zip                      298083 non-null float64\n",
      "Incident Address                  256288 non-null object\n",
      "Street Name                       256288 non-null object\n",
      "Cross Street 1                    251419 non-null object\n",
      "Cross Street 2                    250919 non-null object\n",
      "Intersection Street 1             43858 non-null object\n",
      "Intersection Street 2             43362 non-null object\n",
      "Address Type                      297883 non-null object\n",
      "City                              298084 non-null object\n",
      "Landmark                          349 non-null object\n",
      "Facility Type                     298527 non-null object\n",
      "Status                            300698 non-null object\n",
      "Due Date                          300695 non-null object\n",
      "Resolution Description            300698 non-null object\n",
      "Resolution Action Updated Date    298511 non-null datetime64[ns]\n",
      "Community Board                   300698 non-null object\n",
      "Borough                           300698 non-null object\n",
      "X Coordinate (State Plane)        297158 non-null float64\n",
      "Y Coordinate (State Plane)        297158 non-null float64\n",
      "Park Facility Name                300698 non-null object\n",
      "Park Borough                      300698 non-null object\n",
      "School Name                       300698 non-null object\n",
      "School Number                     300698 non-null object\n",
      "School Region                     300697 non-null object\n",
      "School Code                       300697 non-null object\n",
      "School Phone Number               300698 non-null object\n",
      "School Address                    300698 non-null object\n",
      "School City                       300698 non-null object\n",
      "School State                      300698 non-null object\n",
      "School Zip                        300697 non-null object\n",
      "School Not Found                  300698 non-null object\n",
      "School or Citywide Complaint      0 non-null float64\n",
      "Vehicle Type                      0 non-null float64\n",
      "Taxi Company Borough              0 non-null float64\n",
      "Taxi Pick Up Location             0 non-null float64\n",
      "Bridge Highway Name               243 non-null object\n",
      "Bridge Highway Direction          243 non-null object\n",
      "Road Ramp                         213 non-null object\n",
      "Bridge Highway Segment            213 non-null object\n",
      "Garage Lot Name                   0 non-null float64\n",
      "Ferry Direction                   1 non-null object\n",
      "Ferry Terminal Name               2 non-null object\n",
      "Latitude                          297158 non-null float64\n",
      "Longitude                         297158 non-null float64\n",
      "Location                          297158 non-null object\n",
      "Request_Closing_Time              298534 non-null timedelta64[ns]\n",
      "Resolution_Time                   298534 non-null float64\n",
      "dtypes: datetime64[ns](3), float64(11), object(39), timedelta64[ns](1)\n",
      "memory usage: 126.2+ MB\n"
     ]
    }
   ],
   "source": [
    "df.info()"
   ]
  },
  {
   "cell_type": "code",
   "execution_count": 43,
   "metadata": {},
   "outputs": [
    {
     "data": {
      "text/html": [
       "<div>\n",
       "<style scoped>\n",
       "    .dataframe tbody tr th:only-of-type {\n",
       "        vertical-align: middle;\n",
       "    }\n",
       "\n",
       "    .dataframe tbody tr th {\n",
       "        vertical-align: top;\n",
       "    }\n",
       "\n",
       "    .dataframe thead th {\n",
       "        text-align: right;\n",
       "    }\n",
       "</style>\n",
       "<table border=\"1\" class=\"dataframe\">\n",
       "  <thead>\n",
       "    <tr style=\"text-align: right;\">\n",
       "      <th></th>\n",
       "      <th>Created Date</th>\n",
       "      <th>Closed Date</th>\n",
       "      <th>Agency</th>\n",
       "      <th>Agency Name</th>\n",
       "      <th>Complaint Type</th>\n",
       "      <th>Descriptor</th>\n",
       "      <th>Location Type</th>\n",
       "      <th>Incident Zip</th>\n",
       "      <th>Incident Address</th>\n",
       "      <th>Street Name</th>\n",
       "      <th>...</th>\n",
       "      <th>Road Ramp</th>\n",
       "      <th>Bridge Highway Segment</th>\n",
       "      <th>Garage Lot Name</th>\n",
       "      <th>Ferry Direction</th>\n",
       "      <th>Ferry Terminal Name</th>\n",
       "      <th>Latitude</th>\n",
       "      <th>Longitude</th>\n",
       "      <th>Location</th>\n",
       "      <th>Request_Closing_Time</th>\n",
       "      <th>Resolution_Time</th>\n",
       "    </tr>\n",
       "    <tr>\n",
       "      <th>Unique Key</th>\n",
       "      <th></th>\n",
       "      <th></th>\n",
       "      <th></th>\n",
       "      <th></th>\n",
       "      <th></th>\n",
       "      <th></th>\n",
       "      <th></th>\n",
       "      <th></th>\n",
       "      <th></th>\n",
       "      <th></th>\n",
       "      <th></th>\n",
       "      <th></th>\n",
       "      <th></th>\n",
       "      <th></th>\n",
       "      <th></th>\n",
       "      <th></th>\n",
       "      <th></th>\n",
       "      <th></th>\n",
       "      <th></th>\n",
       "      <th></th>\n",
       "      <th></th>\n",
       "    </tr>\n",
       "  </thead>\n",
       "  <tbody>\n",
       "    <tr>\n",
       "      <td>30281825</td>\n",
       "      <td>2015-03-29 00:33:01</td>\n",
       "      <td>2015-03-29 04:41:50</td>\n",
       "      <td>NYPD</td>\n",
       "      <td>New York City Police Department</td>\n",
       "      <td>Noise - Commercial</td>\n",
       "      <td>Loud Music/Party</td>\n",
       "      <td>Store/Commercial</td>\n",
       "      <td>10036.0</td>\n",
       "      <td>251 WEST 48 STREET</td>\n",
       "      <td>WEST 48 STREET</td>\n",
       "      <td>...</td>\n",
       "      <td>NaN</td>\n",
       "      <td>NaN</td>\n",
       "      <td>NaN</td>\n",
       "      <td>NaN</td>\n",
       "      <td>NaN</td>\n",
       "      <td>40.760583</td>\n",
       "      <td>-73.985922</td>\n",
       "      <td>(40.76058322950115, -73.98592204392392)</td>\n",
       "      <td>04:08:49</td>\n",
       "      <td>14929.0</td>\n",
       "    </tr>\n",
       "  </tbody>\n",
       "</table>\n",
       "<p>1 rows × 54 columns</p>\n",
       "</div>"
      ],
      "text/plain": [
       "                  Created Date         Closed Date Agency  \\\n",
       "Unique Key                                                  \n",
       "30281825   2015-03-29 00:33:01 2015-03-29 04:41:50   NYPD   \n",
       "\n",
       "                                Agency Name      Complaint Type  \\\n",
       "Unique Key                                                        \n",
       "30281825    New York City Police Department  Noise - Commercial   \n",
       "\n",
       "                  Descriptor     Location Type  Incident Zip  \\\n",
       "Unique Key                                                     \n",
       "30281825    Loud Music/Party  Store/Commercial       10036.0   \n",
       "\n",
       "              Incident Address     Street Name  ... Road Ramp  \\\n",
       "Unique Key                                      ...             \n",
       "30281825    251 WEST 48 STREET  WEST 48 STREET  ...       NaN   \n",
       "\n",
       "           Bridge Highway Segment Garage Lot Name Ferry Direction  \\\n",
       "Unique Key                                                          \n",
       "30281825                      NaN             NaN             NaN   \n",
       "\n",
       "           Ferry Terminal Name   Latitude  Longitude  \\\n",
       "Unique Key                                             \n",
       "30281825                   NaN  40.760583 -73.985922   \n",
       "\n",
       "                                           Location Request_Closing_Time  \\\n",
       "Unique Key                                                                 \n",
       "30281825    (40.76058322950115, -73.98592204392392)             04:08:49   \n",
       "\n",
       "           Resolution_Time  \n",
       "Unique Key                  \n",
       "30281825           14929.0  \n",
       "\n",
       "[1 rows x 54 columns]"
      ]
     },
     "execution_count": 43,
     "metadata": {},
     "output_type": "execute_result"
    }
   ],
   "source": [
    "df.tail()"
   ]
  },
  {
   "cell_type": "code",
   "execution_count": 46,
   "metadata": {},
   "outputs": [
    {
     "data": {
      "text/plain": [
       "Unique Key\n",
       "32310363     3315.0\n",
       "32309934     5176.0\n",
       "32309159    17491.0\n",
       "32305098    27914.0\n",
       "32306529    12422.0\n",
       "             ...   \n",
       "30281872        NaN\n",
       "30281230     7231.0\n",
       "30283424    11237.0\n",
       "30280004    14733.0\n",
       "30281825    14929.0\n",
       "Name: Resolution_Time, Length: 300698, dtype: float64"
      ]
     },
     "execution_count": 46,
     "metadata": {},
     "output_type": "execute_result"
    }
   ],
   "source": [
    "df['Resolution_Time']"
   ]
  },
  {
   "cell_type": "code",
   "execution_count": 53,
   "metadata": {},
   "outputs": [
    {
     "data": {
      "text/plain": [
       "300698"
      ]
     },
     "execution_count": 53,
     "metadata": {},
     "output_type": "execute_result"
    }
   ],
   "source": [
    "df.loc[:,\"Resolution_Time\"].isnull().count()"
   ]
  },
  {
   "cell_type": "code",
   "execution_count": 54,
   "metadata": {},
   "outputs": [
    {
     "data": {
      "text/plain": [
       "(300698,)"
      ]
     },
     "execution_count": 54,
     "metadata": {},
     "output_type": "execute_result"
    }
   ],
   "source": [
    "df.loc[:,\"Resolution_Time\"].shape\n"
   ]
  },
  {
   "cell_type": "code",
   "execution_count": 55,
   "metadata": {},
   "outputs": [
    {
     "data": {
      "text/plain": [
       "2164"
      ]
     },
     "execution_count": 55,
     "metadata": {},
     "output_type": "execute_result"
    }
   ],
   "source": [
    "df.loc[:,\"Resolution_Time\"].isnull().sum()"
   ]
  },
  {
   "cell_type": "code",
   "execution_count": 56,
   "metadata": {},
   "outputs": [
    {
     "data": {
      "text/plain": [
       "298534"
      ]
     },
     "execution_count": 56,
     "metadata": {},
     "output_type": "execute_result"
    }
   ],
   "source": [
    "df.loc[:,'Resolution_Time'].notnull().sum()"
   ]
  },
  {
   "cell_type": "code",
   "execution_count": 57,
   "metadata": {},
   "outputs": [],
   "source": [
    "df_clean=df[df['Resolution_Time'].notnull()]"
   ]
  },
  {
   "cell_type": "code",
   "execution_count": 62,
   "metadata": {},
   "outputs": [
    {
     "name": "stdout",
     "output_type": "stream",
     "text": [
      "<class 'pandas.core.frame.DataFrame'>\n",
      "Int64Index: 298534 entries, 32310363 to 30281825\n",
      "Data columns (total 54 columns):\n",
      "Created Date                      298534 non-null datetime64[ns]\n",
      "Closed Date                       298534 non-null datetime64[ns]\n",
      "Agency                            298534 non-null object\n",
      "Agency Name                       298534 non-null object\n",
      "Complaint Type                    298534 non-null object\n",
      "Descriptor                        292625 non-null object\n",
      "Location Type                     298406 non-null object\n",
      "Incident Zip                      298027 non-null float64\n",
      "Incident Address                  254137 non-null object\n",
      "Street Name                       254137 non-null object\n",
      "Cross Street 1                    250971 non-null object\n",
      "Cross Street 2                    250881 non-null object\n",
      "Intersection Street 1             43440 non-null object\n",
      "Intersection Street 2             43354 non-null object\n",
      "Address Type                      297827 non-null object\n",
      "City                              298028 non-null object\n",
      "Landmark                          349 non-null object\n",
      "Facility Type                     298519 non-null object\n",
      "Status                            298534 non-null object\n",
      "Due Date                          298533 non-null object\n",
      "Resolution Description            298534 non-null object\n",
      "Resolution Action Updated Date    298495 non-null datetime64[ns]\n",
      "Community Board                   298534 non-null object\n",
      "Borough                           298534 non-null object\n",
      "X Coordinate (State Plane)        297102 non-null float64\n",
      "Y Coordinate (State Plane)        297102 non-null float64\n",
      "Park Facility Name                298534 non-null object\n",
      "Park Borough                      298534 non-null object\n",
      "School Name                       298534 non-null object\n",
      "School Number                     298534 non-null object\n",
      "School Region                     298533 non-null object\n",
      "School Code                       298533 non-null object\n",
      "School Phone Number               298534 non-null object\n",
      "School Address                    298534 non-null object\n",
      "School City                       298534 non-null object\n",
      "School State                      298534 non-null object\n",
      "School Zip                        298533 non-null object\n",
      "School Not Found                  298534 non-null object\n",
      "School or Citywide Complaint      0 non-null float64\n",
      "Vehicle Type                      0 non-null float64\n",
      "Taxi Company Borough              0 non-null float64\n",
      "Taxi Pick Up Location             0 non-null float64\n",
      "Bridge Highway Name               243 non-null object\n",
      "Bridge Highway Direction          243 non-null object\n",
      "Road Ramp                         213 non-null object\n",
      "Bridge Highway Segment            213 non-null object\n",
      "Garage Lot Name                   0 non-null float64\n",
      "Ferry Direction                   0 non-null object\n",
      "Ferry Terminal Name               0 non-null object\n",
      "Latitude                          297102 non-null float64\n",
      "Longitude                         297102 non-null float64\n",
      "Location                          297102 non-null object\n",
      "Request_Closing_Time              298534 non-null timedelta64[ns]\n",
      "Resolution_Time                   298534 non-null float64\n",
      "dtypes: datetime64[ns](3), float64(11), object(39), timedelta64[ns](1)\n",
      "memory usage: 125.3+ MB\n"
     ]
    }
   ],
   "source": [
    "df_clean.info()"
   ]
  },
  {
   "cell_type": "code",
   "execution_count": 63,
   "metadata": {},
   "outputs": [],
   "source": [
    "df_perfect=df_clean[df_clean['Closed Date']>=df_clean['Created Date']]"
   ]
  },
  {
   "cell_type": "code",
   "execution_count": 66,
   "metadata": {},
   "outputs": [
    {
     "data": {
      "text/plain": [
       "(298534, 54)"
      ]
     },
     "execution_count": 66,
     "metadata": {},
     "output_type": "execute_result"
    }
   ],
   "source": [
    "df_perfect.shape"
   ]
  },
  {
   "cell_type": "code",
   "execution_count": 67,
   "metadata": {},
   "outputs": [
    {
     "data": {
      "text/plain": [
       "(298534, 54)"
      ]
     },
     "execution_count": 67,
     "metadata": {},
     "output_type": "execute_result"
    }
   ],
   "source": [
    "df_clean.shape"
   ]
  },
  {
   "cell_type": "code",
   "execution_count": 77,
   "metadata": {},
   "outputs": [
    {
     "data": {
      "text/plain": [
       "(298534, 54)"
      ]
     },
     "execution_count": 77,
     "metadata": {},
     "output_type": "execute_result"
    }
   ],
   "source": [
    "df_clean[df_clean['Closed Date']>=df_clean['Created Date']].shape"
   ]
  },
  {
   "cell_type": "code",
   "execution_count": 78,
   "metadata": {},
   "outputs": [],
   "source": [
    "df_perfect['Day of Week']=df_perfect['Created Date'].dt.dayofweek"
   ]
  },
  {
   "cell_type": "code",
   "execution_count": 80,
   "metadata": {},
   "outputs": [
    {
     "data": {
      "text/plain": [
       "Unique Key\n",
       "32310363    3\n",
       "32309934    3\n",
       "32309159    3\n",
       "32305098    3\n",
       "32306529    3\n",
       "           ..\n",
       "30281370    6\n",
       "30281230    6\n",
       "30283424    6\n",
       "30280004    6\n",
       "30281825    6\n",
       "Name: Day of Week, Length: 298534, dtype: int64"
      ]
     },
     "execution_count": 80,
     "metadata": {},
     "output_type": "execute_result"
    }
   ],
   "source": [
    "df_perfect['Day of Week']"
   ]
  },
  {
   "cell_type": "code",
   "execution_count": 85,
   "metadata": {},
   "outputs": [
    {
     "data": {
      "text/plain": [
       "(298534, 56)"
      ]
     },
     "execution_count": 85,
     "metadata": {},
     "output_type": "execute_result"
    }
   ],
   "source": [
    "df_perfect.shape"
   ]
  },
  {
   "cell_type": "code",
   "execution_count": 86,
   "metadata": {},
   "outputs": [],
   "source": [
    "df_perfect['Day of Month']=df_perfect['Created Date'].dt.day"
   ]
  },
  {
   "cell_type": "code",
   "execution_count": 87,
   "metadata": {},
   "outputs": [
    {
     "data": {
      "text/plain": [
       "(298534, 56)"
      ]
     },
     "execution_count": 87,
     "metadata": {},
     "output_type": "execute_result"
    }
   ],
   "source": [
    "df_perfect.shape"
   ]
  },
  {
   "cell_type": "code",
   "execution_count": 88,
   "metadata": {},
   "outputs": [],
   "source": [
    "df_perfect['Month']=df_perfect['Created Date'].dt.month"
   ]
  },
  {
   "cell_type": "code",
   "execution_count": 89,
   "metadata": {},
   "outputs": [
    {
     "data": {
      "text/plain": [
       "(298534, 57)"
      ]
     },
     "execution_count": 89,
     "metadata": {},
     "output_type": "execute_result"
    }
   ],
   "source": [
    "df_perfect.shape"
   ]
  },
  {
   "cell_type": "code",
   "execution_count": 90,
   "metadata": {},
   "outputs": [],
   "source": [
    "df_perfect['Year'] = df_perfect['Created Date'].dt.year"
   ]
  },
  {
   "cell_type": "code",
   "execution_count": 91,
   "metadata": {},
   "outputs": [
    {
     "data": {
      "text/plain": [
       "(298534, 58)"
      ]
     },
     "execution_count": 91,
     "metadata": {},
     "output_type": "execute_result"
    }
   ],
   "source": [
    "df_perfect.shape"
   ]
  },
  {
   "cell_type": "code",
   "execution_count": 93,
   "metadata": {},
   "outputs": [
    {
     "data": {
      "text/plain": [
       "array(['MANHATTAN', 'QUEENS', 'BRONX', 'BROOKLYN', 'Unspecified',\n",
       "       'STATEN ISLAND'], dtype=object)"
      ]
     },
     "execution_count": 93,
     "metadata": {},
     "output_type": "execute_result"
    }
   ],
   "source": [
    "df_perfect['Borough'].unique()"
   ]
  },
  {
   "cell_type": "code",
   "execution_count": 101,
   "metadata": {},
   "outputs": [],
   "source": [
    "df_perfect=df_perfect[df_perfect.Borough!='Unspecified']"
   ]
  },
  {
   "cell_type": "code",
   "execution_count": 102,
   "metadata": {},
   "outputs": [
    {
     "data": {
      "text/plain": [
       "array(['MANHATTAN', 'QUEENS', 'BRONX', 'BROOKLYN', 'STATEN ISLAND'],\n",
       "      dtype=object)"
      ]
     },
     "execution_count": 102,
     "metadata": {},
     "output_type": "execute_result"
    }
   ],
   "source": [
    "df_perfect['Borough'].unique()"
   ]
  },
  {
   "cell_type": "markdown",
   "metadata": {},
   "source": [
    "### Volume of Blocked driveway issues by Month"
   ]
  },
  {
   "cell_type": "code",
   "execution_count": 103,
   "metadata": {},
   "outputs": [
    {
     "data": {
      "text/plain": [
       "<matplotlib.axes._subplots.AxesSubplot at 0x1bad33f7f08>"
      ]
     },
     "execution_count": 103,
     "metadata": {},
     "output_type": "execute_result"
    },
    {
     "data": {
      "image/png": "[encoded data removed]",
      "text/plain": [
       "<Figure size 720x432 with 1 Axes>"
      ]
     },
     "metadata": {
      "needs_background": "light"
     },
     "output_type": "display_data"
    }
   ],
   "source": [
    "df_perfect['Month'].value_counts().head(10).plot(kind='bar', figsize=(10,6), title = 'Volume of Blocked driveway issues by Month\\n')"
   ]
  },
  {
   "cell_type": "code",
   "execution_count": 109,
   "metadata": {},
   "outputs": [],
   "source": [
    "df_brooklyn=df_perfect[df_perfect['Borough']=='BROOKLYN']"
   ]
  },
  {
   "cell_type": "code",
   "execution_count": 110,
   "metadata": {},
   "outputs": [
    {
     "data": {
      "text/plain": [
       "(98295, 58)"
      ]
     },
     "execution_count": 110,
     "metadata": {},
     "output_type": "execute_result"
    }
   ],
   "source": [
    "df_brooklyn.shape"
   ]
  },
  {
   "cell_type": "markdown",
   "metadata": {},
   "source": [
    "#### Volume of Blocked driveway issues by Month in Brooklyn"
   ]
  },
  {
   "cell_type": "code",
   "execution_count": 112,
   "metadata": {},
   "outputs": [],
   "source": [
    "dr_br_block=df_brooklyn[df_brooklyn['Complaint Type'] == 'Blocked Driveway']"
   ]
  },
  {
   "cell_type": "code",
   "execution_count": 113,
   "metadata": {},
   "outputs": [
    {
     "data": {
      "text/plain": [
       "<matplotlib.axes._subplots.AxesSubplot at 0x1bae5fbea08>"
      ]
     },
     "execution_count": 113,
     "metadata": {},
     "output_type": "execute_result"
    },
    {
     "data": {
      "image/png": "[encoded data removed]",
      "text/plain": [
       "<Figure size 720x432 with 1 Axes>"
      ]
     },
     "metadata": {
      "needs_background": "light"
     },
     "output_type": "display_data"
    }
   ],
   "source": [
    "dr_br_block['Month'].value_counts().head(10).plot(kind='bar', figsize=(10,6), title = 'Volume of Blocked driveway issues by Month\\n')"
   ]
  },
  {
   "cell_type": "code",
   "execution_count": 114,
   "metadata": {},
   "outputs": [
    {
     "data": {
      "text/plain": [
       "(98295, 58)"
      ]
     },
     "execution_count": 114,
     "metadata": {},
     "output_type": "execute_result"
    }
   ],
   "source": [
    "df_brooklyn.shape"
   ]
  },
  {
   "cell_type": "markdown",
   "metadata": {},
   "source": [
    "### Request_Closing_Time’ in Seconds, grouping them for different locations, order by complaint type"
   ]
  },
  {
   "cell_type": "code",
   "execution_count": 130,
   "metadata": {},
   "outputs": [],
   "source": [
    "df_avg_response_time=(df_perfect.groupby(['City','Complaint Type']).Resolution_Time.mean()).sort_values(ascending=False)"
   ]
  },
  {
   "cell_type": "code",
   "execution_count": 131,
   "metadata": {},
   "outputs": [
    {
     "data": {
      "text/plain": [
       "City                 Complaint Type           \n",
       "QUEENS VILLAGE       Graffiti                     192000.000000\n",
       "BELLEROSE            Homeless Encampment          140880.000000\n",
       "SOUTH RICHMOND HILL  Bike/Roller/Skate Chronic    111277.000000\n",
       "OAKLAND GARDENS      Homeless Encampment          103140.000000\n",
       "FLORAL PARK          Animal Abuse                  95696.500000\n",
       "CAMBRIA HEIGHTS      Homeless Encampment           82042.000000\n",
       "SPRINGFIELD GARDENS  Posting Advertisement         70206.500000\n",
       "ROSEDALE             Homeless Encampment           67906.250000\n",
       "BELLEROSE            Derelict Vehicle              61805.314607\n",
       "FLORAL PARK          Derelict Vehicle              59957.535714\n",
       "CAMBRIA HEIGHTS      Derelict Vehicle              57998.800000\n",
       "QUEENS VILLAGE       Derelict Vehicle              57877.605405\n",
       "MIDDLE VILLAGE       Bike/Roller/Skate Chronic     56456.000000\n",
       "GLEN OAKS            Derelict Vehicle              54881.959184\n",
       "SPRINGFIELD GARDENS  Animal Abuse                  53503.333333\n",
       "QUEENS VILLAGE       Vending                       52559.000000\n",
       "ROSEDALE             Animal Abuse                  52537.363636\n",
       "                     Derelict Vehicle              52226.817308\n",
       "BRONX                Panhandling                   51169.421053\n",
       "ASTORIA              Graffiti                      50742.250000\n",
       "GLEN OAKS            Animal Abuse                  46774.600000\n",
       "QUEENS VILLAGE       Animal Abuse                  46156.727273\n",
       "BELLEROSE            Animal Abuse                  45808.857143\n",
       "WOODSIDE             Bike/Roller/Skate Chronic     43735.500000\n",
       "GLEN OAKS            Noise - Street/Sidewalk       42891.166667\n",
       "Name: Resolution_Time, dtype: float64"
      ]
     },
     "execution_count": 131,
     "metadata": {},
     "output_type": "execute_result"
    }
   ],
   "source": [
    "df_avg_response_time.head(25)"
   ]
  },
  {
   "cell_type": "markdown",
   "metadata": {},
   "source": [
    "### Average response time across complaint types in seconds"
   ]
  },
  {
   "cell_type": "code",
   "execution_count": 143,
   "metadata": {},
   "outputs": [],
   "source": [
    "avg_response_time=(df_perfect.groupby(['Complaint Type']).Resolution_Time.mean()).sort_values(ascending=True)"
   ]
  },
  {
   "cell_type": "code",
   "execution_count": 144,
   "metadata": {},
   "outputs": [
    {
     "data": {
      "text/plain": [
       "Complaint Type\n",
       "Posting Advertisement         7112.891975\n",
       "Illegal Fireworks             9940.101190\n",
       "Noise - Commercial           11291.632884\n",
       "Noise - House of Worship     11495.874058\n",
       "Noise - Park                 12246.158157\n",
       "Noise - Street/Sidewalk      12377.738882\n",
       "Traffic                      12415.252002\n",
       "Disorderly Youth             12810.902098\n",
       "Noise - Vehicle              12918.914430\n",
       "Urinating in Public          13055.991554\n",
       "Bike/Roller/Skate Chronic    13523.545024\n",
       "Drinking                     13879.309748\n",
       "Vending                      14449.060358\n",
       "Squeegee                     14564.250000\n",
       "Homeless Encampment          15716.052536\n",
       "Panhandling                  15741.963934\n",
       "Illegal Parking              16149.479466\n",
       "Blocked Driveway             17057.298659\n",
       "Animal Abuse                 18768.513712\n",
       "Graffiti                     25744.504425\n",
       "Derelict Vehicle             26445.913579\n",
       "Name: Resolution_Time, dtype: float64"
      ]
     },
     "execution_count": 144,
     "metadata": {},
     "output_type": "execute_result"
    }
   ],
   "source": [
    "avg_response_time.head(25)"
   ]
  },
  {
   "cell_type": "markdown",
   "metadata": {},
   "source": [
    "   ### from the above result  we can consider that null hypothesis can be rejected, since average response time across complaint type is not equal"
   ]
  },
  {
   "cell_type": "code",
   "execution_count": 145,
   "metadata": {},
   "outputs": [],
   "source": [
    "# Are the type of complaint or service requested and location related?"
   ]
  },
  {
   "cell_type": "markdown",
   "metadata": {},
   "source": [
    "### Following complains have resolution times which are very close. Disorderly Youth 12810.902098 Noise - Vehicle 12918.914430 One group can be formed for these complaints and one way Anova for this can be performed"
   ]
  },
  {
   "cell_type": "code",
   "execution_count": 147,
   "metadata": {},
   "outputs": [
    {
     "data": {
      "text/plain": [
       "array(['Noise - Street/Sidewalk', 'Blocked Driveway', 'Illegal Parking',\n",
       "       'Derelict Vehicle', 'Noise - Commercial',\n",
       "       'Noise - House of Worship', 'Posting Advertisement',\n",
       "       'Noise - Vehicle', 'Animal Abuse', 'Vending', 'Traffic',\n",
       "       'Drinking', 'Bike/Roller/Skate Chronic', 'Panhandling',\n",
       "       'Noise - Park', 'Homeless Encampment', 'Urinating in Public',\n",
       "       'Graffiti', 'Disorderly Youth', 'Illegal Fireworks', 'Squeegee'],\n",
       "      dtype=object)"
      ]
     },
     "execution_count": 147,
     "metadata": {},
     "output_type": "execute_result"
    }
   ],
   "source": [
    "df_perfect['Complaint Type'].unique()"
   ]
  },
  {
   "cell_type": "code",
   "execution_count": 149,
   "metadata": {},
   "outputs": [],
   "source": [
    "df_disorderyouth=df_perfect[df_perfect['Complaint Type']=='Disorderly Youth']"
   ]
  },
  {
   "cell_type": "code",
   "execution_count": 150,
   "metadata": {},
   "outputs": [],
   "source": [
    "df_disorderyouth=df_disorderyouth.loc[:,['Resolution_Time']]"
   ]
  },
  {
   "cell_type": "code",
   "execution_count": 152,
   "metadata": {},
   "outputs": [
    {
     "data": {
      "text/html": [
       "<div>\n",
       "<style scoped>\n",
       "    .dataframe tbody tr th:only-of-type {\n",
       "        vertical-align: middle;\n",
       "    }\n",
       "\n",
       "    .dataframe tbody tr th {\n",
       "        vertical-align: top;\n",
       "    }\n",
       "\n",
       "    .dataframe thead th {\n",
       "        text-align: right;\n",
       "    }\n",
       "</style>\n",
       "<table border=\"1\" class=\"dataframe\">\n",
       "  <thead>\n",
       "    <tr style=\"text-align: right;\">\n",
       "      <th></th>\n",
       "      <th>Resolution_Time</th>\n",
       "    </tr>\n",
       "    <tr>\n",
       "      <th>Unique Key</th>\n",
       "      <th></th>\n",
       "    </tr>\n",
       "  </thead>\n",
       "  <tbody>\n",
       "    <tr>\n",
       "      <td>32274507</td>\n",
       "      <td>713.0</td>\n",
       "    </tr>\n",
       "    <tr>\n",
       "      <td>32244468</td>\n",
       "      <td>4605.0</td>\n",
       "    </tr>\n",
       "    <tr>\n",
       "      <td>32225263</td>\n",
       "      <td>2345.0</td>\n",
       "    </tr>\n",
       "    <tr>\n",
       "      <td>32227341</td>\n",
       "      <td>19415.0</td>\n",
       "    </tr>\n",
       "    <tr>\n",
       "      <td>32191432</td>\n",
       "      <td>6849.0</td>\n",
       "    </tr>\n",
       "  </tbody>\n",
       "</table>\n",
       "</div>"
      ],
      "text/plain": [
       "            Resolution_Time\n",
       "Unique Key                 \n",
       "32274507              713.0\n",
       "32244468             4605.0\n",
       "32225263             2345.0\n",
       "32227341            19415.0\n",
       "32191432             6849.0"
      ]
     },
     "execution_count": 152,
     "metadata": {},
     "output_type": "execute_result"
    }
   ],
   "source": [
    "df_disorderyouth.head()"
   ]
  },
  {
   "cell_type": "code",
   "execution_count": 153,
   "metadata": {},
   "outputs": [
    {
     "data": {
      "text/html": [
       "<div>\n",
       "<style scoped>\n",
       "    .dataframe tbody tr th:only-of-type {\n",
       "        vertical-align: middle;\n",
       "    }\n",
       "\n",
       "    .dataframe tbody tr th {\n",
       "        vertical-align: top;\n",
       "    }\n",
       "\n",
       "    .dataframe thead th {\n",
       "        text-align: right;\n",
       "    }\n",
       "</style>\n",
       "<table border=\"1\" class=\"dataframe\">\n",
       "  <thead>\n",
       "    <tr style=\"text-align: right;\">\n",
       "      <th></th>\n",
       "      <th>Resolution_Time</th>\n",
       "    </tr>\n",
       "    <tr>\n",
       "      <th>Unique Key</th>\n",
       "      <th></th>\n",
       "    </tr>\n",
       "  </thead>\n",
       "  <tbody>\n",
       "    <tr>\n",
       "      <td>32307159</td>\n",
       "      <td>22949.0</td>\n",
       "    </tr>\n",
       "    <tr>\n",
       "      <td>32308722</td>\n",
       "      <td>7254.0</td>\n",
       "    </tr>\n",
       "    <tr>\n",
       "      <td>32308107</td>\n",
       "      <td>11319.0</td>\n",
       "    </tr>\n",
       "    <tr>\n",
       "      <td>32308108</td>\n",
       "      <td>10937.0</td>\n",
       "    </tr>\n",
       "    <tr>\n",
       "      <td>32306622</td>\n",
       "      <td>2615.0</td>\n",
       "    </tr>\n",
       "  </tbody>\n",
       "</table>\n",
       "</div>"
      ],
      "text/plain": [
       "            Resolution_Time\n",
       "Unique Key                 \n",
       "32307159            22949.0\n",
       "32308722             7254.0\n",
       "32308107            11319.0\n",
       "32308108            10937.0\n",
       "32306622             2615.0"
      ]
     },
     "execution_count": 153,
     "metadata": {},
     "output_type": "execute_result"
    }
   ],
   "source": [
    "df_noiseveh = df_perfect[df_perfect['Complaint Type']=='Noise - Vehicle']\n",
    "df_noiseveh = df_noiseveh.loc[:,['Resolution_Time']]\n",
    "df_noiseveh.head()"
   ]
  },
  {
   "cell_type": "code",
   "execution_count": 155,
   "metadata": {},
   "outputs": [],
   "source": [
    "df_typeres=df_perfect.loc[:,['Complaint Type','Resolution_Time']]"
   ]
  },
  {
   "cell_type": "code",
   "execution_count": 157,
   "metadata": {},
   "outputs": [
    {
     "data": {
      "text/html": [
       "<div>\n",
       "<style scoped>\n",
       "    .dataframe tbody tr th:only-of-type {\n",
       "        vertical-align: middle;\n",
       "    }\n",
       "\n",
       "    .dataframe tbody tr th {\n",
       "        vertical-align: top;\n",
       "    }\n",
       "\n",
       "    .dataframe thead th {\n",
       "        text-align: right;\n",
       "    }\n",
       "</style>\n",
       "<table border=\"1\" class=\"dataframe\">\n",
       "  <thead>\n",
       "    <tr style=\"text-align: right;\">\n",
       "      <th></th>\n",
       "      <th>Complaint Type</th>\n",
       "      <th>Resolution_Time</th>\n",
       "    </tr>\n",
       "    <tr>\n",
       "      <th>Unique Key</th>\n",
       "      <th></th>\n",
       "      <th></th>\n",
       "    </tr>\n",
       "  </thead>\n",
       "  <tbody>\n",
       "    <tr>\n",
       "      <td>32310363</td>\n",
       "      <td>Noise - Street/Sidewalk</td>\n",
       "      <td>3315.0</td>\n",
       "    </tr>\n",
       "    <tr>\n",
       "      <td>32309934</td>\n",
       "      <td>Blocked Driveway</td>\n",
       "      <td>5176.0</td>\n",
       "    </tr>\n",
       "    <tr>\n",
       "      <td>32309159</td>\n",
       "      <td>Blocked Driveway</td>\n",
       "      <td>17491.0</td>\n",
       "    </tr>\n",
       "    <tr>\n",
       "      <td>32305098</td>\n",
       "      <td>Illegal Parking</td>\n",
       "      <td>27914.0</td>\n",
       "    </tr>\n",
       "    <tr>\n",
       "      <td>32306529</td>\n",
       "      <td>Illegal Parking</td>\n",
       "      <td>12422.0</td>\n",
       "    </tr>\n",
       "  </tbody>\n",
       "</table>\n",
       "</div>"
      ],
      "text/plain": [
       "                     Complaint Type  Resolution_Time\n",
       "Unique Key                                          \n",
       "32310363    Noise - Street/Sidewalk           3315.0\n",
       "32309934           Blocked Driveway           5176.0\n",
       "32309159           Blocked Driveway          17491.0\n",
       "32305098            Illegal Parking          27914.0\n",
       "32306529            Illegal Parking          12422.0"
      ]
     },
     "execution_count": 157,
     "metadata": {},
     "output_type": "execute_result"
    }
   ],
   "source": [
    "df_typeres.head()"
   ]
  },
  {
   "cell_type": "code",
   "execution_count": 158,
   "metadata": {},
   "outputs": [
    {
     "data": {
      "text/plain": [
       "Index(['Complaint Type', 'Resolution_Time'], dtype='object')"
      ]
     },
     "execution_count": 158,
     "metadata": {},
     "output_type": "execute_result"
    }
   ],
   "source": [
    "df_typeres.columns"
   ]
  },
  {
   "cell_type": "code",
   "execution_count": 162,
   "metadata": {},
   "outputs": [],
   "source": [
    "# stats f_oneway functions takes the groups as input and returns F and P-value\n",
    "f_value,p_value=stats.f_oneway(df_disorderyouth,df_noiseveh)"
   ]
  },
  {
   "cell_type": "code",
   "execution_count": 186,
   "metadata": {},
   "outputs": [
    {
     "data": {
      "text/plain": [
       "array([0.91269878])"
      ]
     },
     "execution_count": 186,
     "metadata": {},
     "output_type": "execute_result"
    }
   ],
   "source": [
    "p_value"
   ]
  },
  {
   "cell_type": "markdown",
   "metadata": {},
   "source": [
    "#### Null hypothesis to be accepted for Disorderly Youth and Noise - Vehicle p-value close to 1"
   ]
  },
  {
   "cell_type": "markdown",
   "metadata": {},
   "source": [
    "#### One Way Anova for Posting Advertisement and Derelict Vehicle"
   ]
  },
  {
   "cell_type": "code",
   "execution_count": 167,
   "metadata": {},
   "outputs": [
    {
     "data": {
      "text/html": [
       "<div>\n",
       "<style scoped>\n",
       "    .dataframe tbody tr th:only-of-type {\n",
       "        vertical-align: middle;\n",
       "    }\n",
       "\n",
       "    .dataframe tbody tr th {\n",
       "        vertical-align: top;\n",
       "    }\n",
       "\n",
       "    .dataframe thead th {\n",
       "        text-align: right;\n",
       "    }\n",
       "</style>\n",
       "<table border=\"1\" class=\"dataframe\">\n",
       "  <thead>\n",
       "    <tr style=\"text-align: right;\">\n",
       "      <th></th>\n",
       "      <th>Resolution_Time</th>\n",
       "    </tr>\n",
       "    <tr>\n",
       "      <th>Unique Key</th>\n",
       "      <th></th>\n",
       "    </tr>\n",
       "  </thead>\n",
       "  <tbody>\n",
       "    <tr>\n",
       "      <td>32306752</td>\n",
       "      <td>7596.0</td>\n",
       "    </tr>\n",
       "    <tr>\n",
       "      <td>32307464</td>\n",
       "      <td>7745.0</td>\n",
       "    </tr>\n",
       "    <tr>\n",
       "      <td>32308949</td>\n",
       "      <td>7834.0</td>\n",
       "    </tr>\n",
       "    <tr>\n",
       "      <td>32307323</td>\n",
       "      <td>8042.0</td>\n",
       "    </tr>\n",
       "    <tr>\n",
       "      <td>32306034</td>\n",
       "      <td>8137.0</td>\n",
       "    </tr>\n",
       "  </tbody>\n",
       "</table>\n",
       "</div>"
      ],
      "text/plain": [
       "            Resolution_Time\n",
       "Unique Key                 \n",
       "32306752             7596.0\n",
       "32307464             7745.0\n",
       "32308949             7834.0\n",
       "32307323             8042.0\n",
       "32306034             8137.0"
      ]
     },
     "execution_count": 167,
     "metadata": {},
     "output_type": "execute_result"
    }
   ],
   "source": [
    "df_postad = df_perfect[df_perfect['Complaint Type']=='Posting Advertisement']\n",
    "df_postad = df_postad.loc[:,['Resolution_Time']]\n",
    "df_postad.head()"
   ]
  },
  {
   "cell_type": "code",
   "execution_count": 168,
   "metadata": {},
   "outputs": [
    {
     "data": {
      "text/html": [
       "<div>\n",
       "<style scoped>\n",
       "    .dataframe tbody tr th:only-of-type {\n",
       "        vertical-align: middle;\n",
       "    }\n",
       "\n",
       "    .dataframe tbody tr th {\n",
       "        vertical-align: top;\n",
       "    }\n",
       "\n",
       "    .dataframe thead th {\n",
       "        text-align: right;\n",
       "    }\n",
       "</style>\n",
       "<table border=\"1\" class=\"dataframe\">\n",
       "  <thead>\n",
       "    <tr style=\"text-align: right;\">\n",
       "      <th></th>\n",
       "      <th>Resolution_Time</th>\n",
       "    </tr>\n",
       "    <tr>\n",
       "      <th>Unique Key</th>\n",
       "      <th></th>\n",
       "    </tr>\n",
       "  </thead>\n",
       "  <tbody>\n",
       "    <tr>\n",
       "      <td>32309424</td>\n",
       "      <td>37763.0</td>\n",
       "    </tr>\n",
       "    <tr>\n",
       "      <td>32306497</td>\n",
       "      <td>14221.0</td>\n",
       "    </tr>\n",
       "    <tr>\n",
       "      <td>32305124</td>\n",
       "      <td>4913.0</td>\n",
       "    </tr>\n",
       "    <tr>\n",
       "      <td>32308002</td>\n",
       "      <td>14879.0</td>\n",
       "    </tr>\n",
       "    <tr>\n",
       "      <td>32305798</td>\n",
       "      <td>2712.0</td>\n",
       "    </tr>\n",
       "  </tbody>\n",
       "</table>\n",
       "</div>"
      ],
      "text/plain": [
       "            Resolution_Time\n",
       "Unique Key                 \n",
       "32309424            37763.0\n",
       "32306497            14221.0\n",
       "32305124             4913.0\n",
       "32308002            14879.0\n",
       "32305798             2712.0"
      ]
     },
     "execution_count": 168,
     "metadata": {},
     "output_type": "execute_result"
    }
   ],
   "source": [
    "df_derveh = df_perfect[df_perfect['Complaint Type']=='Derelict Vehicle']\n",
    "df_derveh = df_derveh.loc[:,['Resolution_Time']]\n",
    "df_derveh.head()"
   ]
  },
  {
   "cell_type": "code",
   "execution_count": 170,
   "metadata": {},
   "outputs": [
    {
     "data": {
      "text/plain": [
       "array([7.28776953e-35])"
      ]
     },
     "execution_count": 170,
     "metadata": {},
     "output_type": "execute_result"
    }
   ],
   "source": [
    "# stats f_oneway functions takes the groups as input and returns F and P-value\n",
    "fvalue, pvalue = stats.f_oneway(df_postad,df_derveh) \n",
    "pvalue"
   ]
  },
  {
   "cell_type": "markdown",
   "metadata": {},
   "source": [
    "### Null hypothesis for Posting Advertisement and Derelict Vehicle to be rejected p-value < 0.05¶"
   ]
  },
  {
   "cell_type": "markdown",
   "metadata": {},
   "source": [
    "#### Anova table for complain type and resolution time"
   ]
  },
  {
   "cell_type": "code",
   "execution_count": 171,
   "metadata": {},
   "outputs": [],
   "source": [
    "# get ANOVA table for complain type and resolution time\n",
    "# reshape the d dataframe suitable for statsmodels package \n",
    "df_perfect['Complaint_Type']=df_perfect['Complaint Type']\n"
   ]
  },
  {
   "cell_type": "code",
   "execution_count": 172,
   "metadata": {},
   "outputs": [
    {
     "data": {
      "text/plain": [
       "Unique Key\n",
       "32310363    Noise - Street/Sidewalk\n",
       "32309934           Blocked Driveway\n",
       "32309159           Blocked Driveway\n",
       "32305098            Illegal Parking\n",
       "32306529            Illegal Parking\n",
       "                     ...           \n",
       "30281370         Noise - Commercial\n",
       "30281230           Blocked Driveway\n",
       "30283424         Noise - Commercial\n",
       "30280004         Noise - Commercial\n",
       "30281825         Noise - Commercial\n",
       "Name: Complaint_Type, Length: 298068, dtype: object"
      ]
     },
     "execution_count": 172,
     "metadata": {},
     "output_type": "execute_result"
    }
   ],
   "source": [
    "df_perfect['Complaint_Type']"
   ]
  },
  {
   "cell_type": "code",
   "execution_count": 173,
   "metadata": {},
   "outputs": [],
   "source": [
    "df_type_res = df_perfect.loc[:, ['Complaint_Type','Resolution_Time']]  #Complaint Type"
   ]
  },
  {
   "cell_type": "code",
   "execution_count": 174,
   "metadata": {},
   "outputs": [
    {
     "data": {
      "text/html": [
       "<div>\n",
       "<style scoped>\n",
       "    .dataframe tbody tr th:only-of-type {\n",
       "        vertical-align: middle;\n",
       "    }\n",
       "\n",
       "    .dataframe tbody tr th {\n",
       "        vertical-align: top;\n",
       "    }\n",
       "\n",
       "    .dataframe thead th {\n",
       "        text-align: right;\n",
       "    }\n",
       "</style>\n",
       "<table border=\"1\" class=\"dataframe\">\n",
       "  <thead>\n",
       "    <tr style=\"text-align: right;\">\n",
       "      <th></th>\n",
       "      <th>Complaint_Type</th>\n",
       "      <th>Resolution_Time</th>\n",
       "    </tr>\n",
       "    <tr>\n",
       "      <th>Unique Key</th>\n",
       "      <th></th>\n",
       "      <th></th>\n",
       "    </tr>\n",
       "  </thead>\n",
       "  <tbody>\n",
       "    <tr>\n",
       "      <td>32310363</td>\n",
       "      <td>Noise - Street/Sidewalk</td>\n",
       "      <td>3315.0</td>\n",
       "    </tr>\n",
       "    <tr>\n",
       "      <td>32309934</td>\n",
       "      <td>Blocked Driveway</td>\n",
       "      <td>5176.0</td>\n",
       "    </tr>\n",
       "    <tr>\n",
       "      <td>32309159</td>\n",
       "      <td>Blocked Driveway</td>\n",
       "      <td>17491.0</td>\n",
       "    </tr>\n",
       "    <tr>\n",
       "      <td>32305098</td>\n",
       "      <td>Illegal Parking</td>\n",
       "      <td>27914.0</td>\n",
       "    </tr>\n",
       "    <tr>\n",
       "      <td>32306529</td>\n",
       "      <td>Illegal Parking</td>\n",
       "      <td>12422.0</td>\n",
       "    </tr>\n",
       "    <tr>\n",
       "      <td>...</td>\n",
       "      <td>...</td>\n",
       "      <td>...</td>\n",
       "    </tr>\n",
       "    <tr>\n",
       "      <td>30281370</td>\n",
       "      <td>Noise - Commercial</td>\n",
       "      <td>2309.0</td>\n",
       "    </tr>\n",
       "    <tr>\n",
       "      <td>30281230</td>\n",
       "      <td>Blocked Driveway</td>\n",
       "      <td>7231.0</td>\n",
       "    </tr>\n",
       "    <tr>\n",
       "      <td>30283424</td>\n",
       "      <td>Noise - Commercial</td>\n",
       "      <td>11237.0</td>\n",
       "    </tr>\n",
       "    <tr>\n",
       "      <td>30280004</td>\n",
       "      <td>Noise - Commercial</td>\n",
       "      <td>14733.0</td>\n",
       "    </tr>\n",
       "    <tr>\n",
       "      <td>30281825</td>\n",
       "      <td>Noise - Commercial</td>\n",
       "      <td>14929.0</td>\n",
       "    </tr>\n",
       "  </tbody>\n",
       "</table>\n",
       "<p>298068 rows × 2 columns</p>\n",
       "</div>"
      ],
      "text/plain": [
       "                     Complaint_Type  Resolution_Time\n",
       "Unique Key                                          \n",
       "32310363    Noise - Street/Sidewalk           3315.0\n",
       "32309934           Blocked Driveway           5176.0\n",
       "32309159           Blocked Driveway          17491.0\n",
       "32305098            Illegal Parking          27914.0\n",
       "32306529            Illegal Parking          12422.0\n",
       "...                             ...              ...\n",
       "30281370         Noise - Commercial           2309.0\n",
       "30281230           Blocked Driveway           7231.0\n",
       "30283424         Noise - Commercial          11237.0\n",
       "30280004         Noise - Commercial          14733.0\n",
       "30281825         Noise - Commercial          14929.0\n",
       "\n",
       "[298068 rows x 2 columns]"
      ]
     },
     "execution_count": 174,
     "metadata": {},
     "output_type": "execute_result"
    }
   ],
   "source": [
    "df_type_res"
   ]
  },
  {
   "cell_type": "code",
   "execution_count": 176,
   "metadata": {},
   "outputs": [],
   "source": [
    "# Ordinary Least Squares (OLS) model\n",
    "\n",
    "model = ols('Resolution_Time ~ Complaint_Type', data=df_type_res).fit()"
   ]
  },
  {
   "cell_type": "code",
   "execution_count": 177,
   "metadata": {},
   "outputs": [
    {
     "data": {
      "text/plain": [
       "<statsmodels.regression.linear_model.RegressionResultsWrapper at 0x1bad33f8cc8>"
      ]
     },
     "execution_count": 177,
     "metadata": {},
     "output_type": "execute_result"
    }
   ],
   "source": [
    "model"
   ]
  },
  {
   "cell_type": "code",
   "execution_count": 183,
   "metadata": {},
   "outputs": [],
   "source": [
    "anova_table = sm.stats.anova_lm(model, typ=2)"
   ]
  },
  {
   "cell_type": "code",
   "execution_count": 184,
   "metadata": {},
   "outputs": [
    {
     "data": {
      "text/html": [
       "<div>\n",
       "<style scoped>\n",
       "    .dataframe tbody tr th:only-of-type {\n",
       "        vertical-align: middle;\n",
       "    }\n",
       "\n",
       "    .dataframe tbody tr th {\n",
       "        vertical-align: top;\n",
       "    }\n",
       "\n",
       "    .dataframe thead th {\n",
       "        text-align: right;\n",
       "    }\n",
       "</style>\n",
       "<table border=\"1\" class=\"dataframe\">\n",
       "  <thead>\n",
       "    <tr style=\"text-align: right;\">\n",
       "      <th></th>\n",
       "      <th>sum_sq</th>\n",
       "      <th>df</th>\n",
       "      <th>F</th>\n",
       "      <th>PR(&gt;F)</th>\n",
       "    </tr>\n",
       "  </thead>\n",
       "  <tbody>\n",
       "    <tr>\n",
       "      <td>Complaint_Type</td>\n",
       "      <td>3.784839e+12</td>\n",
       "      <td>20.0</td>\n",
       "      <td>410.258598</td>\n",
       "      <td>0.0</td>\n",
       "    </tr>\n",
       "    <tr>\n",
       "      <td>Residual</td>\n",
       "      <td>1.374816e+14</td>\n",
       "      <td>298047.0</td>\n",
       "      <td>NaN</td>\n",
       "      <td>NaN</td>\n",
       "    </tr>\n",
       "  </tbody>\n",
       "</table>\n",
       "</div>"
      ],
      "text/plain": [
       "                      sum_sq        df           F  PR(>F)\n",
       "Complaint_Type  3.784839e+12      20.0  410.258598     0.0\n",
       "Residual        1.374816e+14  298047.0         NaN     NaN"
      ]
     },
     "execution_count": 184,
     "metadata": {},
     "output_type": "execute_result"
    }
   ],
   "source": [
    "anova_table"
   ]
  },
  {
   "cell_type": "markdown",
   "metadata": {},
   "source": [
    "####  Null Hypothesis to be rejected since p-value < 0.05"
   ]
  },
  {
   "cell_type": "code",
   "execution_count": null,
   "metadata": {},
   "outputs": [],
   "source": []
  }
 ],
 "metadata": {
  "kernelspec": {
   "display_name": "Python 3",
   "language": "python",
   "name": "python3"
  },
  "language_info": {
   "codemirror_mode": {
    "name": "ipython",
    "version": 3
   },
   "file_extension": ".py",
   "mimetype": "text/x-python",
   "name": "python",
   "nbconvert_exporter": "python",
   "pygments_lexer": "ipython3",
   "version": "3.7.4"
  }
 },
 "nbformat": 4,
 "nbformat_minor": 2
}
